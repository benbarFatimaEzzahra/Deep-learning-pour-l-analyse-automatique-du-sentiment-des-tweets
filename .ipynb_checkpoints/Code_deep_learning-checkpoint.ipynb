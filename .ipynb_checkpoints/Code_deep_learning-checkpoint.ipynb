{
 "cells": [
  {
   "cell_type": "code",
   "execution_count": 1,
   "id": "03217dd6",
   "metadata": {
    "id": "03217dd6"
   },
   "outputs": [],
   "source": [
    "import numpy as np \n",
    "import pandas as pd \n",
    "import warnings\n",
    "warnings.filterwarnings(\"ignore\")\n",
    "from wordcloud import WordCloud, ImageColorGenerator\n",
    "import matplotlib.pyplot as plt\n",
    "plt.style.use('ggplot')\n",
    "import pandas\n",
    "import seaborn as sns \n",
    "from sklearn import preprocessing\n",
    "import nltk \n",
    "from nltk.stem.isri import ISRIStemmer\n",
    "from nltk.corpus import stopwords\n",
    "from nltk.tokenize import word_tokenize\n",
    "from nltk.tokenize import RegexpTokenizer\n",
    "import arabic_reshaper\n",
    "from bidi.algorithm import get_display\n",
    "import os\n",
    "import codecs\n",
    "from collections import Counter \n",
    "import re\n",
    "import string\n",
    "import matplotlib.cm as cm\n",
    "from matplotlib import rcParams\n",
    "from prettytable import PrettyTable\n",
    "from sklearn.feature_extraction.text import TfidfVectorizer\n",
    "from sklearn import preprocessing\n",
    "from sklearn.model_selection import train_test_split\n",
    "from sklearn.metrics import f1_score\n",
    "from sklearn.metrics import precision_score\n",
    "from sklearn.metrics import recall_score\n",
    "from sklearn.naive_bayes import GaussianNB, MultinomialNB\n",
    "from sklearn.linear_model import RidgeClassifier\n",
    "from sklearn.linear_model import LogisticRegression\n",
    "from sklearn.ensemble import RandomForestClassifier\n",
    "from tensorflow.keras.models import Sequential\n",
    "from tensorflow.keras.layers import Dense, Dropout\n",
    "from tensorflow.keras.callbacks import EarlyStopping\n",
    "import pickle\n",
    "from sklearn.metrics import confusion_matrix,plot_confusion_matrix\n",
    "from joblib import load, dump \n",
    "import h5py\n",
    "from tensorflow.keras.models import load_model"
   ]
  },
  {
   "cell_type": "markdown",
   "id": "11ee08d3",
   "metadata": {
    "id": "11ee08d3"
   },
   "source": [
    " "
   ]
  },
  {
   "cell_type": "markdown",
   "id": "2bb42a15",
   "metadata": {
    "id": "2bb42a15"
   },
   "source": [
    "# Reading Arabic_tweets_positive dataset"
   ]
  },
  {
   "cell_type": "markdown",
   "id": "e8eec6af",
   "metadata": {
    "id": "e8eec6af"
   },
   "source": [
    " "
   ]
  },
  {
   "cell_type": "code",
   "execution_count": 2,
   "id": "f9c918d9",
   "metadata": {
    "id": "f9c918d9"
   },
   "outputs": [],
   "source": [
    "#set erro_bad_lines = False, it needed when the csv has too many commas\n",
    "cols = ['class','tweet_text']\n",
    "positive = pd.read_csv('positive.tsv',sep='\\t', error_bad_lines = False ,header=None, names=cols)"
   ]
  },
  {
   "cell_type": "code",
   "execution_count": 3,
   "id": "a153a01f",
   "metadata": {
    "id": "a153a01f",
    "outputId": "ae819a81-3788-4b91-ed8f-8c6a2b1d26d3"
   },
   "outputs": [
    {
     "data": {
      "text/html": [
       "<div>\n",
       "<style scoped>\n",
       "    .dataframe tbody tr th:only-of-type {\n",
       "        vertical-align: middle;\n",
       "    }\n",
       "\n",
       "    .dataframe tbody tr th {\n",
       "        vertical-align: top;\n",
       "    }\n",
       "\n",
       "    .dataframe thead th {\n",
       "        text-align: right;\n",
       "    }\n",
       "</style>\n",
       "<table border=\"1\" class=\"dataframe\">\n",
       "  <thead>\n",
       "    <tr style=\"text-align: right;\">\n",
       "      <th></th>\n",
       "      <th>class</th>\n",
       "      <th>tweet_text</th>\n",
       "    </tr>\n",
       "  </thead>\n",
       "  <tbody>\n",
       "    <tr>\n",
       "      <th>0</th>\n",
       "      <td>pos</td>\n",
       "      <td>نحن الذين يتحول كل ما نود أن نقوله إلى دعاء لل...</td>\n",
       "    </tr>\n",
       "    <tr>\n",
       "      <th>1</th>\n",
       "      <td>pos</td>\n",
       "      <td>وفي النهاية لن يبقىٰ معك آحدإلا من رأىٰ الجمال...</td>\n",
       "    </tr>\n",
       "    <tr>\n",
       "      <th>2</th>\n",
       "      <td>pos</td>\n",
       "      <td>من الخير نفسه 💛</td>\n",
       "    </tr>\n",
       "    <tr>\n",
       "      <th>3</th>\n",
       "      <td>pos</td>\n",
       "      <td>#زلزل_الملعب_نصرنا_بيلعب كن عالي الهمه ولا ترض...</td>\n",
       "    </tr>\n",
       "    <tr>\n",
       "      <th>4</th>\n",
       "      <td>pos</td>\n",
       "      <td>الشيء الوحيد الذي وصلوا فيه للعالمية هو : المس...</td>\n",
       "    </tr>\n",
       "    <tr>\n",
       "      <th>5</th>\n",
       "      <td>pos</td>\n",
       "      <td>#الاتحاد_النصر لاتحسبونا نسينا يالطواقي ولانبي...</td>\n",
       "    </tr>\n",
       "    <tr>\n",
       "      <th>6</th>\n",
       "      <td>pos</td>\n",
       "      <td>احبك انت وياه واموري من سعه 🎶</td>\n",
       "    </tr>\n",
       "    <tr>\n",
       "      <th>7</th>\n",
       "      <td>pos</td>\n",
       "      <td>#تأمل قال الله ﷻ :- _*​﴿بواد غير ذي زرع ﴾*_ 💫💫...</td>\n",
       "    </tr>\n",
       "    <tr>\n",
       "      <th>8</th>\n",
       "      <td>pos</td>\n",
       "      <td>وينهم الي يرقصوا مع زخات المطر 💃 خلونا نشوفكم ...</td>\n",
       "    </tr>\n",
       "    <tr>\n",
       "      <th>9</th>\n",
       "      <td>pos</td>\n",
       "      <td>اللهم آمين يارب العالمين انتي وانا وامة سيدنا ...</td>\n",
       "    </tr>\n",
       "    <tr>\n",
       "      <th>10</th>\n",
       "      <td>pos</td>\n",
       "      <td>نمش ننوم ما دا ديل ولادنا 💚</td>\n",
       "    </tr>\n",
       "    <tr>\n",
       "      <th>11</th>\n",
       "      <td>pos</td>\n",
       "      <td>😅 أستغفر الله</td>\n",
       "    </tr>\n",
       "    <tr>\n",
       "      <th>12</th>\n",
       "      <td>pos</td>\n",
       "      <td>تواريخ الرحلات النسائية الى #النرويج مع مرشدة ...</td>\n",
       "    </tr>\n",
       "    <tr>\n",
       "      <th>13</th>\n",
       "      <td>pos</td>\n",
       "      <td>السلام عليكم ورحمة الله وبركاته أسعد الله أوقا...</td>\n",
       "    </tr>\n",
       "    <tr>\n",
       "      <th>14</th>\n",
       "      <td>pos</td>\n",
       "      <td>.. حي الله اللي يبادلني معزه واحترام شيخ الريا...</td>\n",
       "    </tr>\n",
       "    <tr>\n",
       "      <th>15</th>\n",
       "      <td>pos</td>\n",
       "      <td>السحب الليلة على الايفون .. رتويت للمرفقة وطبق...</td>\n",
       "    </tr>\n",
       "    <tr>\n",
       "      <th>16</th>\n",
       "      <td>pos</td>\n",
       "      <td>💟ياارب انصرنا ياارب 💟مهما كانت النتيجه 💟هيفضل ...</td>\n",
       "    </tr>\n",
       "    <tr>\n",
       "      <th>17</th>\n",
       "      <td>pos</td>\n",
       "      <td>عمر ترا كل المشهورات كيذا يصورون والخدامه تلبس...</td>\n",
       "    </tr>\n",
       "    <tr>\n",
       "      <th>18</th>\n",
       "      <td>pos</td>\n",
       "      <td>رجل المباراه برأيك ؟ 💙</td>\n",
       "    </tr>\n",
       "    <tr>\n",
       "      <th>19</th>\n",
       "      <td>pos</td>\n",
       "      <td>- ﻻ تفكر في ﻛﻴﻔﻴﺔ ﺍﻟﻔﺮﺝ ، ﻓﺈﻥ اﻟﻠﻪ ﺇﺫﺍ ﺃﺭﺍﺩ ﺷﻴ...</td>\n",
       "    </tr>\n",
       "    <tr>\n",
       "      <th>20</th>\n",
       "      <td>pos</td>\n",
       "      <td>شوف الفيدي اله تكملة 😊</td>\n",
       "    </tr>\n",
       "    <tr>\n",
       "      <th>21</th>\n",
       "      <td>pos</td>\n",
       "      <td>لله مافي القلب لله در قلب لا يسمع أنينه الا هو...</td>\n",
       "    </tr>\n",
       "    <tr>\n",
       "      <th>22</th>\n",
       "      <td>pos</td>\n",
       "      <td>#احتزم_يانصر_معك_رجال كفو جمهور الشمس 💛</td>\n",
       "    </tr>\n",
       "    <tr>\n",
       "      <th>23</th>\n",
       "      <td>pos</td>\n",
       "      <td>✨شراسة - قوة🔥 الهلال يصبح أول نادي سعودي يحرز ...</td>\n",
       "    </tr>\n",
       "    <tr>\n",
       "      <th>24</th>\n",
       "      <td>pos</td>\n",
       "      <td>بكره الصداره ترجع لرجالها 💛</td>\n",
       "    </tr>\n",
       "    <tr>\n",
       "      <th>25</th>\n",
       "      <td>pos</td>\n",
       "      <td>#صباح_الخير 🌹 اللهم.. طهر صباحنا وصباح كل مسلم...</td>\n",
       "    </tr>\n",
       "    <tr>\n",
       "      <th>26</th>\n",
       "      <td>pos</td>\n",
       "      <td>اجمل من غنى عبد الحليم العندليب #محمد_عساف</td>\n",
       "    </tr>\n",
       "    <tr>\n",
       "      <th>27</th>\n",
       "      <td>pos</td>\n",
       "      <td>اللهم أرنا عجائب صنعك في دعائنا وأرنا لطفك ورح...</td>\n",
       "    </tr>\n",
       "    <tr>\n",
       "      <th>28</th>\n",
       "      <td>pos</td>\n",
       "      <td>إن العيون ترى كل يوم وجوها جميلة ، ولكن القلب ...</td>\n",
       "    </tr>\n",
       "    <tr>\n",
       "      <th>29</th>\n",
       "      <td>pos</td>\n",
       "      <td>السيسي هو الشخص الوحيد اللي يقدر يغير رأي ترمب 😇</td>\n",
       "    </tr>\n",
       "    <tr>\n",
       "      <th>30</th>\n",
       "      <td>pos</td>\n",
       "      <td>آللهم إني أسألك من الخير كله ..عاجله وآجله ، م...</td>\n",
       "    </tr>\n",
       "    <tr>\n",
       "      <th>31</th>\n",
       "      <td>pos</td>\n",
       "      <td>مرتدة تدرس ( ايام الزمن الجميل ) 💙 #الهلال</td>\n",
       "    </tr>\n",
       "    <tr>\n",
       "      <th>32</th>\n",
       "      <td>pos</td>\n",
       "      <td>لا احد يغرق ويشغل الدفاع 😂</td>\n",
       "    </tr>\n",
       "    <tr>\n",
       "      <th>33</th>\n",
       "      <td>pos</td>\n",
       "      <td>لو صرت ببدء با monsta x وونهو 🐰</td>\n",
       "    </tr>\n",
       "    <tr>\n",
       "      <th>34</th>\n",
       "      <td>pos</td>\n",
       "      <td>لأولئك الذين يسندون الجميع ولم يسندهم أحد الله...</td>\n",
       "    </tr>\n",
       "    <tr>\n",
       "      <th>35</th>\n",
       "      <td>pos</td>\n",
       "      <td>اللهم اغسل قبر حبيبي #احمدعتيق بالماء و الثلج ...</td>\n",
       "    </tr>\n",
       "    <tr>\n",
       "      <th>36</th>\n",
       "      <td>pos</td>\n",
       "      <td>صباحك سعاده ❤</td>\n",
       "    </tr>\n",
       "    <tr>\n",
       "      <th>37</th>\n",
       "      <td>pos</td>\n",
       "      <td>بمناسبة فوز الهلال .. 💙 سحب على آيفون XR📱 رتوي...</td>\n",
       "    </tr>\n",
       "    <tr>\n",
       "      <th>38</th>\n",
       "      <td>pos</td>\n",
       "      <td>لو يجي غيرك ويرسم لي الهنا حب غيرك بكل قناعة ر...</td>\n",
       "    </tr>\n",
       "    <tr>\n",
       "      <th>39</th>\n",
       "      <td>pos</td>\n",
       "      <td>ملاحظة في محلها لابد ماتتكرر في المباراة القاد...</td>\n",
       "    </tr>\n",
       "    <tr>\n",
       "      <th>40</th>\n",
       "      <td>pos</td>\n",
       "      <td>اول ظهور لكرستيان بيل كان مع الراحل عمر الشريف ❤</td>\n",
       "    </tr>\n",
       "    <tr>\n",
       "      <th>41</th>\n",
       "      <td>pos</td>\n",
       "      <td>عن اليقين في : \"اللهم إن في تدبيرك ما يغني عن ...</td>\n",
       "    </tr>\n",
       "    <tr>\n",
       "      <th>42</th>\n",
       "      <td>pos</td>\n",
       "      <td>تكونين عظيمه فعليا لما يكون همك الوحيد شلون تك...</td>\n",
       "    </tr>\n",
       "    <tr>\n",
       "      <th>43</th>\n",
       "      <td>pos</td>\n",
       "      <td>🌸 قال #الإمام_ابن_القيم -رحمه الله تعالى- : - ...</td>\n",
       "    </tr>\n",
       "    <tr>\n",
       "      <th>44</th>\n",
       "      <td>pos</td>\n",
       "      <td>استكمال اللقاء بعد توقفه د بسبب الاحوال الجوية...</td>\n",
       "    </tr>\n",
       "    <tr>\n",
       "      <th>45</th>\n",
       "      <td>pos</td>\n",
       "      <td>لا يأتي الإهتمام إلا من قلب يخاف غيابك 🌹</td>\n",
       "    </tr>\n",
       "    <tr>\n",
       "      <th>46</th>\n",
       "      <td>pos</td>\n",
       "      <td>هذا يوم يقولون نشبه نامق متصور مع صورتي غصب لا...</td>\n",
       "    </tr>\n",
       "    <tr>\n",
       "      <th>47</th>\n",
       "      <td>pos</td>\n",
       "      <td>أبي رمشك يغطيني وأبيك أقرب من أنفاسي.💤 يللى ع ...</td>\n",
       "    </tr>\n",
       "    <tr>\n",
       "      <th>48</th>\n",
       "      <td>pos</td>\n",
       "      <td>🌴 غراس الخير 🌴 أتدري كيف يسرق عمر المرء ، بأن ...</td>\n",
       "    </tr>\n",
       "    <tr>\n",
       "      <th>49</th>\n",
       "      <td>pos</td>\n",
       "      <td>عاد انت وحظك الله يعوضك خير 😂</td>\n",
       "    </tr>\n",
       "  </tbody>\n",
       "</table>\n",
       "</div>"
      ],
      "text/plain": [
       "   class                                         tweet_text\n",
       "0    pos  نحن الذين يتحول كل ما نود أن نقوله إلى دعاء لل...\n",
       "1    pos  وفي النهاية لن يبقىٰ معك آحدإلا من رأىٰ الجمال...\n",
       "2    pos                                    من الخير نفسه 💛\n",
       "3    pos  #زلزل_الملعب_نصرنا_بيلعب كن عالي الهمه ولا ترض...\n",
       "4    pos  الشيء الوحيد الذي وصلوا فيه للعالمية هو : المس...\n",
       "5    pos  #الاتحاد_النصر لاتحسبونا نسينا يالطواقي ولانبي...\n",
       "6    pos                      احبك انت وياه واموري من سعه 🎶\n",
       "7    pos  #تأمل قال الله ﷻ :- _*​﴿بواد غير ذي زرع ﴾*_ 💫💫...\n",
       "8    pos  وينهم الي يرقصوا مع زخات المطر 💃 خلونا نشوفكم ...\n",
       "9    pos  اللهم آمين يارب العالمين انتي وانا وامة سيدنا ...\n",
       "10   pos                        نمش ننوم ما دا ديل ولادنا 💚\n",
       "11   pos                                      😅 أستغفر الله\n",
       "12   pos  تواريخ الرحلات النسائية الى #النرويج مع مرشدة ...\n",
       "13   pos  السلام عليكم ورحمة الله وبركاته أسعد الله أوقا...\n",
       "14   pos  .. حي الله اللي يبادلني معزه واحترام شيخ الريا...\n",
       "15   pos  السحب الليلة على الايفون .. رتويت للمرفقة وطبق...\n",
       "16   pos  💟ياارب انصرنا ياارب 💟مهما كانت النتيجه 💟هيفضل ...\n",
       "17   pos  عمر ترا كل المشهورات كيذا يصورون والخدامه تلبس...\n",
       "18   pos                             رجل المباراه برأيك ؟ 💙\n",
       "19   pos  - ﻻ تفكر في ﻛﻴﻔﻴﺔ ﺍﻟﻔﺮﺝ ، ﻓﺈﻥ اﻟﻠﻪ ﺇﺫﺍ ﺃﺭﺍﺩ ﺷﻴ...\n",
       "20   pos                             شوف الفيدي اله تكملة 😊\n",
       "21   pos  لله مافي القلب لله در قلب لا يسمع أنينه الا هو...\n",
       "22   pos            #احتزم_يانصر_معك_رجال كفو جمهور الشمس 💛\n",
       "23   pos  ✨شراسة - قوة🔥 الهلال يصبح أول نادي سعودي يحرز ...\n",
       "24   pos                        بكره الصداره ترجع لرجالها 💛\n",
       "25   pos  #صباح_الخير 🌹 اللهم.. طهر صباحنا وصباح كل مسلم...\n",
       "26   pos         اجمل من غنى عبد الحليم العندليب #محمد_عساف\n",
       "27   pos  اللهم أرنا عجائب صنعك في دعائنا وأرنا لطفك ورح...\n",
       "28   pos  إن العيون ترى كل يوم وجوها جميلة ، ولكن القلب ...\n",
       "29   pos   السيسي هو الشخص الوحيد اللي يقدر يغير رأي ترمب 😇\n",
       "30   pos  آللهم إني أسألك من الخير كله ..عاجله وآجله ، م...\n",
       "31   pos         مرتدة تدرس ( ايام الزمن الجميل ) 💙 #الهلال\n",
       "32   pos                         لا احد يغرق ويشغل الدفاع 😂\n",
       "33   pos                    لو صرت ببدء با monsta x وونهو 🐰\n",
       "34   pos  لأولئك الذين يسندون الجميع ولم يسندهم أحد الله...\n",
       "35   pos  اللهم اغسل قبر حبيبي #احمدعتيق بالماء و الثلج ...\n",
       "36   pos                                      صباحك سعاده ❤\n",
       "37   pos  بمناسبة فوز الهلال .. 💙 سحب على آيفون XR📱 رتوي...\n",
       "38   pos  لو يجي غيرك ويرسم لي الهنا حب غيرك بكل قناعة ر...\n",
       "39   pos  ملاحظة في محلها لابد ماتتكرر في المباراة القاد...\n",
       "40   pos   اول ظهور لكرستيان بيل كان مع الراحل عمر الشريف ❤\n",
       "41   pos  عن اليقين في : \"اللهم إن في تدبيرك ما يغني عن ...\n",
       "42   pos  تكونين عظيمه فعليا لما يكون همك الوحيد شلون تك...\n",
       "43   pos  🌸 قال #الإمام_ابن_القيم -رحمه الله تعالى- : - ...\n",
       "44   pos  استكمال اللقاء بعد توقفه د بسبب الاحوال الجوية...\n",
       "45   pos           لا يأتي الإهتمام إلا من قلب يخاف غيابك 🌹\n",
       "46   pos  هذا يوم يقولون نشبه نامق متصور مع صورتي غصب لا...\n",
       "47   pos  أبي رمشك يغطيني وأبيك أقرب من أنفاسي.💤 يللى ع ...\n",
       "48   pos  🌴 غراس الخير 🌴 أتدري كيف يسرق عمر المرء ، بأن ...\n",
       "49   pos                      عاد انت وحظك الله يعوضك خير 😂"
      ]
     },
     "execution_count": 3,
     "metadata": {},
     "output_type": "execute_result"
    }
   ],
   "source": [
    "positive.head(50)"
   ]
  },
  {
   "cell_type": "markdown",
   "id": "03f70f3c",
   "metadata": {
    "id": "03f70f3c"
   },
   "source": [
    "# Sample of the positive twittes text"
   ]
  },
  {
   "cell_type": "code",
   "execution_count": 4,
   "id": "3c57e70c",
   "metadata": {
    "colab": {
     "base_uri": "https://localhost:8080/"
    },
    "id": "3c57e70c",
    "outputId": "6d456828-a309-4657-be44-84af9f41b6c6"
   },
   "outputs": [
    {
     "data": {
      "text/plain": [
       "0    نحن الذين يتحول كل ما نود أن نقوله إلى دعاء لل...\n",
       "1    وفي النهاية لن يبقىٰ معك آحدإلا من رأىٰ الجمال...\n",
       "2                                      من الخير نفسه 💛\n",
       "3    #زلزل_الملعب_نصرنا_بيلعب كن عالي الهمه ولا ترض...\n",
       "4    الشيء الوحيد الذي وصلوا فيه للعالمية هو : المس...\n",
       "5    #الاتحاد_النصر لاتحسبونا نسينا يالطواقي ولانبي...\n",
       "6                        احبك انت وياه واموري من سعه 🎶\n",
       "7    #تأمل قال الله ﷻ :- _*​﴿بواد غير ذي زرع ﴾*_ 💫💫...\n",
       "8    وينهم الي يرقصوا مع زخات المطر 💃 خلونا نشوفكم ...\n",
       "9    اللهم آمين يارب العالمين انتي وانا وامة سيدنا ...\n",
       "Name: tweet_text, dtype: object"
      ]
     },
     "execution_count": 4,
     "metadata": {},
     "output_type": "execute_result"
    }
   ],
   "source": [
    "positive['tweet_text'].head(10)"
   ]
  },
  {
   "cell_type": "markdown",
   "id": "8e5668ec",
   "metadata": {
    "id": "8e5668ec"
   },
   "source": [
    " "
   ]
  },
  {
   "cell_type": "markdown",
   "id": "2c7b7298",
   "metadata": {
    "id": "2c7b7298"
   },
   "source": [
    "# Sample of the target "
   ]
  },
  {
   "cell_type": "code",
   "execution_count": 5,
   "id": "eb4f99de",
   "metadata": {
    "colab": {
     "base_uri": "https://localhost:8080/"
    },
    "id": "eb4f99de",
    "outputId": "6559b7a8-c81c-463b-8456-fff54dc33232"
   },
   "outputs": [
    {
     "data": {
      "text/plain": [
       "0    pos\n",
       "1    pos\n",
       "2    pos\n",
       "3    pos\n",
       "4    pos\n",
       "Name: class, dtype: object"
      ]
     },
     "execution_count": 5,
     "metadata": {},
     "output_type": "execute_result"
    }
   ],
   "source": [
    "positive['class'].head()"
   ]
  },
  {
   "cell_type": "markdown",
   "id": "7b7768e4",
   "metadata": {
    "id": "7b7768e4"
   },
   "source": [
    " "
   ]
  },
  {
   "cell_type": "markdown",
   "id": "f9892bc3",
   "metadata": {
    "id": "f9892bc3"
   },
   "source": [
    "# EDA on the postive dataset"
   ]
  },
  {
   "cell_type": "code",
   "execution_count": 6,
   "id": "69dd6b2b",
   "metadata": {
    "colab": {
     "base_uri": "https://localhost:8080/"
    },
    "id": "69dd6b2b",
    "outputId": "95b10881-9605-4431-8525-e57668d7bd3b"
   },
   "outputs": [
    {
     "data": {
      "text/plain": [
       "0"
      ]
     },
     "execution_count": 6,
     "metadata": {},
     "output_type": "execute_result"
    }
   ],
   "source": [
    "np.sum(positive.isnull().any(axis=1))"
   ]
  },
  {
   "cell_type": "code",
   "execution_count": 7,
   "id": "7236a285",
   "metadata": {
    "colab": {
     "base_uri": "https://localhost:8080/"
    },
    "id": "7236a285",
    "outputId": "e67005c0-c281-4ee9-c7f9-3368d6048560"
   },
   "outputs": [
    {
     "data": {
      "text/plain": [
       "class         False\n",
       "tweet_text    False\n",
       "dtype: bool"
      ]
     },
     "execution_count": 7,
     "metadata": {},
     "output_type": "execute_result"
    }
   ],
   "source": [
    "positive.isnull().any(axis=0)"
   ]
  },
  {
   "cell_type": "code",
   "execution_count": 8,
   "id": "a0dde4f5",
   "metadata": {
    "colab": {
     "base_uri": "https://localhost:8080/"
    },
    "id": "a0dde4f5",
    "outputId": "aeb503ee-94d7-446d-cf50-3eecc1070c1e"
   },
   "outputs": [
    {
     "name": "stdout",
     "output_type": "stream",
     "text": [
      "<class 'pandas.core.frame.DataFrame'>\n",
      "RangeIndex: 28513 entries, 0 to 28512\n",
      "Data columns (total 2 columns):\n",
      " #   Column      Non-Null Count  Dtype \n",
      "---  ------      --------------  ----- \n",
      " 0   class       28513 non-null  object\n",
      " 1   tweet_text  28513 non-null  object\n",
      "dtypes: object(2)\n",
      "memory usage: 445.6+ KB\n"
     ]
    }
   ],
   "source": [
    "positive.info()"
   ]
  },
  {
   "cell_type": "markdown",
   "id": "b9e2d346",
   "metadata": {
    "id": "b9e2d346"
   },
   "source": [
    "# Cleaning the text"
   ]
  },
  {
   "cell_type": "code",
   "execution_count": 9,
   "id": "021d18ed",
   "metadata": {
    "id": "021d18ed"
   },
   "outputs": [],
   "source": [
    "for letter in '#.][!XRﷺ':\n",
    "    positive['tweet_text'] = positive['tweet_text'].astype(str).str.replace(letter,'')"
   ]
  },
  {
   "cell_type": "code",
   "execution_count": 10,
   "id": "5d5a457c",
   "metadata": {
    "colab": {
     "base_uri": "https://localhost:8080/",
     "height": 362
    },
    "id": "5d5a457c",
    "outputId": "76e0d5eb-2d3b-4dae-8421-dfba6025134f"
   },
   "outputs": [
    {
     "data": {
      "text/html": [
       "<div>\n",
       "<style scoped>\n",
       "    .dataframe tbody tr th:only-of-type {\n",
       "        vertical-align: middle;\n",
       "    }\n",
       "\n",
       "    .dataframe tbody tr th {\n",
       "        vertical-align: top;\n",
       "    }\n",
       "\n",
       "    .dataframe thead th {\n",
       "        text-align: right;\n",
       "    }\n",
       "</style>\n",
       "<table border=\"1\" class=\"dataframe\">\n",
       "  <thead>\n",
       "    <tr style=\"text-align: right;\">\n",
       "      <th></th>\n",
       "      <th>class</th>\n",
       "      <th>tweet_text</th>\n",
       "    </tr>\n",
       "  </thead>\n",
       "  <tbody>\n",
       "    <tr>\n",
       "      <th>0</th>\n",
       "      <td>pos</td>\n",
       "      <td>نحن الذين يتحول كل ما نود أن نقوله إلى دعاء لل...</td>\n",
       "    </tr>\n",
       "    <tr>\n",
       "      <th>1</th>\n",
       "      <td>pos</td>\n",
       "      <td>وفي النهاية لن يبقىٰ معك آحدإلا من رأىٰ الجمال...</td>\n",
       "    </tr>\n",
       "    <tr>\n",
       "      <th>2</th>\n",
       "      <td>pos</td>\n",
       "      <td>من الخير نفسه 💛</td>\n",
       "    </tr>\n",
       "    <tr>\n",
       "      <th>3</th>\n",
       "      <td>pos</td>\n",
       "      <td>زلزل_الملعب_نصرنا_بيلعب كن عالي الهمه ولا ترضى...</td>\n",
       "    </tr>\n",
       "    <tr>\n",
       "      <th>4</th>\n",
       "      <td>pos</td>\n",
       "      <td>الشيء الوحيد الذي وصلوا فيه للعالمية هو : المس...</td>\n",
       "    </tr>\n",
       "    <tr>\n",
       "      <th>5</th>\n",
       "      <td>pos</td>\n",
       "      <td>الاتحاد_النصر لاتحسبونا نسينا يالطواقي ولانبيك...</td>\n",
       "    </tr>\n",
       "    <tr>\n",
       "      <th>6</th>\n",
       "      <td>pos</td>\n",
       "      <td>احبك انت وياه واموري من سعه 🎶</td>\n",
       "    </tr>\n",
       "    <tr>\n",
       "      <th>7</th>\n",
       "      <td>pos</td>\n",
       "      <td>تأمل قال الله ﷻ :- _*​﴿بواد غير ذي زرع ﴾*_ 💫💫 ...</td>\n",
       "    </tr>\n",
       "    <tr>\n",
       "      <th>8</th>\n",
       "      <td>pos</td>\n",
       "      <td>وينهم الي يرقصوا مع زخات المطر 💃 خلونا نشوفكم ...</td>\n",
       "    </tr>\n",
       "    <tr>\n",
       "      <th>9</th>\n",
       "      <td>pos</td>\n",
       "      <td>اللهم آمين يارب العالمين انتي وانا وامة سيدنا ...</td>\n",
       "    </tr>\n",
       "  </tbody>\n",
       "</table>\n",
       "</div>"
      ],
      "text/plain": [
       "  class                                         tweet_text\n",
       "0   pos  نحن الذين يتحول كل ما نود أن نقوله إلى دعاء لل...\n",
       "1   pos  وفي النهاية لن يبقىٰ معك آحدإلا من رأىٰ الجمال...\n",
       "2   pos                                    من الخير نفسه 💛\n",
       "3   pos  زلزل_الملعب_نصرنا_بيلعب كن عالي الهمه ولا ترضى...\n",
       "4   pos  الشيء الوحيد الذي وصلوا فيه للعالمية هو : المس...\n",
       "5   pos  الاتحاد_النصر لاتحسبونا نسينا يالطواقي ولانبيك...\n",
       "6   pos                      احبك انت وياه واموري من سعه 🎶\n",
       "7   pos  تأمل قال الله ﷻ :- _*​﴿بواد غير ذي زرع ﴾*_ 💫💫 ...\n",
       "8   pos  وينهم الي يرقصوا مع زخات المطر 💃 خلونا نشوفكم ...\n",
       "9   pos  اللهم آمين يارب العالمين انتي وانا وامة سيدنا ..."
      ]
     },
     "execution_count": 10,
     "metadata": {},
     "output_type": "execute_result"
    }
   ],
   "source": [
    "positive.head(10)"
   ]
  },
  {
   "cell_type": "markdown",
   "id": "afb4d6ae",
   "metadata": {
    "id": "afb4d6ae"
   },
   "source": [
    "using (import string) which is return all ASCII letters (both lower and upper case)"
   ]
  },
  {
   "cell_type": "code",
   "execution_count": 11,
   "id": "786502ef",
   "metadata": {
    "id": "786502ef"
   },
   "outputs": [],
   "source": [
    "arabic_punctuations = '''`÷×؛<>_()*&^%][ـ،/:\"؟.,'{}~¦+|!”…“–ـ'''\n",
    "english_punctuations = string.punctuation\n",
    "punctuations_list = arabic_punctuations + english_punctuations\n",
    "\n",
    "def remove_punctuations(text):\n",
    "    translator = str.maketrans('', '', punctuations_list)\n",
    "    return text.translate(translator)"
   ]
  },
  {
   "cell_type": "markdown",
   "id": "edda3dae",
   "metadata": {
    "id": "edda3dae"
   },
   "source": [
    " "
   ]
  },
  {
   "cell_type": "markdown",
   "id": "1fd4ae3a",
   "metadata": {
    "id": "1fd4ae3a"
   },
   "source": [
    "use of regular expression (re) substitution"
   ]
  },
  {
   "cell_type": "code",
   "execution_count": 12,
   "id": "9e311fa5",
   "metadata": {
    "id": "9e311fa5"
   },
   "outputs": [],
   "source": [
    "def normalize_arabic(text):\n",
    "    text = re.sub(\"[إأآا]\", \"ا\", text)\n",
    "    text = re.sub(\"ى\", \"ي\", text)\n",
    "    text = re.sub(\"ة\", \"ه\", text)\n",
    "    text = re.sub(\"گ\", \"ك\", text)\n",
    "    return text"
   ]
  },
  {
   "cell_type": "code",
   "execution_count": 13,
   "id": "ad132d08",
   "metadata": {
    "id": "ad132d08"
   },
   "outputs": [],
   "source": [
    "def remove_repeating_char(text):\n",
    "    return re.sub(r'(.)\\1+', r'\\1', text)\n",
    "    "
   ]
  },
  {
   "cell_type": "code",
   "execution_count": 14,
   "id": "3c0d5c7a",
   "metadata": {
    "id": "3c0d5c7a"
   },
   "outputs": [],
   "source": [
    "def processPost(tweet): \n",
    "\n",
    "    #delete @username with empty string\n",
    "    tweet = re.sub('@[^\\s]+', ' ', tweet)\n",
    "    \n",
    "    #delete www.* or https?://* to \" \"\n",
    "    tweet = re.sub('((www\\.[^\\s]+)|(https?://[^\\s]+))',' ',tweet)\n",
    "    \n",
    "    #Replace #word with word\n",
    "    tweet = re.sub(r'#([^\\s]+)', r'\\1', tweet)\n",
    "\n",
    "    # remove punctuations\n",
    "    tweet= remove_punctuations(tweet)\n",
    "    \n",
    "    # normalize the tweet\n",
    "    tweet= normalize_arabic(tweet)\n",
    "    \n",
    "    # remove repeated letters\n",
    "    tweet=remove_repeating_char(tweet)\n",
    "    tweet = re.sub(r'\\s*[A-Za-z]+\\b', '' , tweet)\n",
    "    tweet = tweet.rstrip()\n",
    "    \n",
    "    return tweet"
   ]
  },
  {
   "cell_type": "code",
   "execution_count": 15,
   "id": "a559cce1",
   "metadata": {
    "id": "a559cce1"
   },
   "outputs": [],
   "source": [
    "# using apply method to implement the processPost func on each value in each row in the data\n",
    "positive[\"tweet_text\"] = positive['tweet_text'].apply(lambda x: processPost(x)) "
   ]
  },
  {
   "cell_type": "code",
   "execution_count": 16,
   "id": "78fa60d0",
   "metadata": {
    "colab": {
     "base_uri": "https://localhost:8080/",
     "height": 832
    },
    "id": "78fa60d0",
    "outputId": "86e6a269-b2f4-43ce-c8f1-f4561fd9bc5c"
   },
   "outputs": [
    {
     "data": {
      "text/html": [
       "<div>\n",
       "<style scoped>\n",
       "    .dataframe tbody tr th:only-of-type {\n",
       "        vertical-align: middle;\n",
       "    }\n",
       "\n",
       "    .dataframe tbody tr th {\n",
       "        vertical-align: top;\n",
       "    }\n",
       "\n",
       "    .dataframe thead th {\n",
       "        text-align: right;\n",
       "    }\n",
       "</style>\n",
       "<table border=\"1\" class=\"dataframe\">\n",
       "  <thead>\n",
       "    <tr style=\"text-align: right;\">\n",
       "      <th></th>\n",
       "      <th>class</th>\n",
       "      <th>tweet_text</th>\n",
       "    </tr>\n",
       "  </thead>\n",
       "  <tbody>\n",
       "    <tr>\n",
       "      <th>0</th>\n",
       "      <td>pos</td>\n",
       "      <td>نحن الذين يتحول كل ما نود ان نقوله الي دعاء له...</td>\n",
       "    </tr>\n",
       "    <tr>\n",
       "      <th>1</th>\n",
       "      <td>pos</td>\n",
       "      <td>وفي النهايه لن يبقيٰ معك احدالا من رايٰ الجمال...</td>\n",
       "    </tr>\n",
       "    <tr>\n",
       "      <th>2</th>\n",
       "      <td>pos</td>\n",
       "      <td>من الخير نفسه 💛</td>\n",
       "    </tr>\n",
       "    <tr>\n",
       "      <th>3</th>\n",
       "      <td>pos</td>\n",
       "      <td>زلزلالملعبنصرنابيلعب كن عالي الهمه ولا ترضي بغ...</td>\n",
       "    </tr>\n",
       "    <tr>\n",
       "      <th>4</th>\n",
       "      <td>pos</td>\n",
       "      <td>الشيء الوحيد الذي وصلوا فيه لعالميه هو المسيار...</td>\n",
       "    </tr>\n",
       "    <tr>\n",
       "      <th>5</th>\n",
       "      <td>pos</td>\n",
       "      <td>الاتحادالنصر لاتحسبونا نسينا يالطواقي ولانبيكم...</td>\n",
       "    </tr>\n",
       "    <tr>\n",
       "      <th>6</th>\n",
       "      <td>pos</td>\n",
       "      <td>احبك انت وياه واموري من سعه 🎶</td>\n",
       "    </tr>\n",
       "    <tr>\n",
       "      <th>7</th>\n",
       "      <td>pos</td>\n",
       "      <td>تامل قال اله ﷻ ​﴿بواد غير ذي زرع ﴾ 💫 ✍ ومع ذلك...</td>\n",
       "    </tr>\n",
       "    <tr>\n",
       "      <th>8</th>\n",
       "      <td>pos</td>\n",
       "      <td>وينهم الي يرقصوا مع زخات المطر 💃 خلونا نشوفكم ...</td>\n",
       "    </tr>\n",
       "    <tr>\n",
       "      <th>9</th>\n",
       "      <td>pos</td>\n",
       "      <td>الهم امين يارب العالمين انتي وانا وامه سيدنا م...</td>\n",
       "    </tr>\n",
       "    <tr>\n",
       "      <th>10</th>\n",
       "      <td>pos</td>\n",
       "      <td>نمش نوم ما دا ديل ولادنا 💚</td>\n",
       "    </tr>\n",
       "    <tr>\n",
       "      <th>11</th>\n",
       "      <td>pos</td>\n",
       "      <td>😅 استغفر اله</td>\n",
       "    </tr>\n",
       "    <tr>\n",
       "      <th>12</th>\n",
       "      <td>pos</td>\n",
       "      <td>تواريخ الرحلات النسائيه الي النرويج مع مرشده و...</td>\n",
       "    </tr>\n",
       "    <tr>\n",
       "      <th>13</th>\n",
       "      <td>pos</td>\n",
       "      <td>السلام عليكم ورحمه اله وبركاته اسعد اله اوقاتك...</td>\n",
       "    </tr>\n",
       "    <tr>\n",
       "      <th>14</th>\n",
       "      <td>pos</td>\n",
       "      <td>حي اله الي يبادلني معزه واحترام شيخ الرياجيل ...</td>\n",
       "    </tr>\n",
       "    <tr>\n",
       "      <th>15</th>\n",
       "      <td>pos</td>\n",
       "      <td>السحب اليله علي الايفون رتويت لمرفقه وطبق الشر...</td>\n",
       "    </tr>\n",
       "    <tr>\n",
       "      <th>16</th>\n",
       "      <td>pos</td>\n",
       "      <td>💟يارب انصرنا يارب 💟مهما كانت النتيجه 💟هيفضل ال...</td>\n",
       "    </tr>\n",
       "    <tr>\n",
       "      <th>17</th>\n",
       "      <td>pos</td>\n",
       "      <td>عمر ترا كل المشهورات كيذا يصورون والخدامه تلبس...</td>\n",
       "    </tr>\n",
       "    <tr>\n",
       "      <th>18</th>\n",
       "      <td>pos</td>\n",
       "      <td>رجل المباراه برايك 💙</td>\n",
       "    </tr>\n",
       "    <tr>\n",
       "      <th>19</th>\n",
       "      <td>pos</td>\n",
       "      <td>ﻻ تفكر في ﻛﻴﻔﻴﺔ ﺍﻟﻔﺮﺝ ﻓﺈﻥ اﻟﻠﻪ ﺇﺫﺍ ﺃﺭﺍﺩ ﺷﻴﺌﺎ ...</td>\n",
       "    </tr>\n",
       "    <tr>\n",
       "      <th>20</th>\n",
       "      <td>pos</td>\n",
       "      <td>شوف الفيدي اله تكمله 😊</td>\n",
       "    </tr>\n",
       "    <tr>\n",
       "      <th>21</th>\n",
       "      <td>pos</td>\n",
       "      <td>له مافي القلب له در قلب لا يسمع انينه الا هو 💌...</td>\n",
       "    </tr>\n",
       "    <tr>\n",
       "      <th>22</th>\n",
       "      <td>pos</td>\n",
       "      <td>احتزميانصرمعكرجال كفو جمهور الشمس 💛</td>\n",
       "    </tr>\n",
       "    <tr>\n",
       "      <th>23</th>\n",
       "      <td>pos</td>\n",
       "      <td>✨شراسه قوه🔥 الهلال يصبح اول نادي سعودي يحرز هد...</td>\n",
       "    </tr>\n",
       "    <tr>\n",
       "      <th>24</th>\n",
       "      <td>pos</td>\n",
       "      <td>بكره الصداره ترجع لرجالها 💛</td>\n",
       "    </tr>\n",
       "  </tbody>\n",
       "</table>\n",
       "</div>"
      ],
      "text/plain": [
       "   class                                         tweet_text\n",
       "0    pos  نحن الذين يتحول كل ما نود ان نقوله الي دعاء له...\n",
       "1    pos  وفي النهايه لن يبقيٰ معك احدالا من رايٰ الجمال...\n",
       "2    pos                                    من الخير نفسه 💛\n",
       "3    pos  زلزلالملعبنصرنابيلعب كن عالي الهمه ولا ترضي بغ...\n",
       "4    pos  الشيء الوحيد الذي وصلوا فيه لعالميه هو المسيار...\n",
       "5    pos  الاتحادالنصر لاتحسبونا نسينا يالطواقي ولانبيكم...\n",
       "6    pos                      احبك انت وياه واموري من سعه 🎶\n",
       "7    pos  تامل قال اله ﷻ ​﴿بواد غير ذي زرع ﴾ 💫 ✍ ومع ذلك...\n",
       "8    pos  وينهم الي يرقصوا مع زخات المطر 💃 خلونا نشوفكم ...\n",
       "9    pos  الهم امين يارب العالمين انتي وانا وامه سيدنا م...\n",
       "10   pos                         نمش نوم ما دا ديل ولادنا 💚\n",
       "11   pos                                       😅 استغفر اله\n",
       "12   pos  تواريخ الرحلات النسائيه الي النرويج مع مرشده و...\n",
       "13   pos  السلام عليكم ورحمه اله وبركاته اسعد اله اوقاتك...\n",
       "14   pos   حي اله الي يبادلني معزه واحترام شيخ الرياجيل ...\n",
       "15   pos  السحب اليله علي الايفون رتويت لمرفقه وطبق الشر...\n",
       "16   pos  💟يارب انصرنا يارب 💟مهما كانت النتيجه 💟هيفضل ال...\n",
       "17   pos  عمر ترا كل المشهورات كيذا يصورون والخدامه تلبس...\n",
       "18   pos                               رجل المباراه برايك 💙\n",
       "19   pos   ﻻ تفكر في ﻛﻴﻔﻴﺔ ﺍﻟﻔﺮﺝ ﻓﺈﻥ اﻟﻠﻪ ﺇﺫﺍ ﺃﺭﺍﺩ ﺷﻴﺌﺎ ...\n",
       "20   pos                             شوف الفيدي اله تكمله 😊\n",
       "21   pos  له مافي القلب له در قلب لا يسمع انينه الا هو 💌...\n",
       "22   pos                احتزميانصرمعكرجال كفو جمهور الشمس 💛\n",
       "23   pos  ✨شراسه قوه🔥 الهلال يصبح اول نادي سعودي يحرز هد...\n",
       "24   pos                        بكره الصداره ترجع لرجالها 💛"
      ]
     },
     "execution_count": 16,
     "metadata": {},
     "output_type": "execute_result"
    }
   ],
   "source": [
    "positive.head(25)\n"
   ]
  },
  {
   "cell_type": "code",
   "execution_count": 17,
   "id": "14d2d09a",
   "metadata": {
    "id": "14d2d09a"
   },
   "outputs": [],
   "source": [
    "tokenizer = RegexpTokenizer(r'\\w+')\n",
    "positive[\"tweet_text\"] = positive[\"tweet_text\"].apply(tokenizer.tokenize)\n"
   ]
  },
  {
   "cell_type": "code",
   "execution_count": 18,
   "id": "083f92f2",
   "metadata": {
    "colab": {
     "base_uri": "https://localhost:8080/"
    },
    "id": "083f92f2",
    "outputId": "22c21bf4-5cce-4b8b-ccc2-84bd6fcce6b7"
   },
   "outputs": [
    {
     "data": {
      "text/plain": [
       "0    [نحن, الذين, يتحول, كل, ما, نود, ان, نقوله, ال...\n",
       "1    [وفي, النهايه, لن, يبقي, معك, احدالا, من, راي,...\n",
       "2                                    [من, الخير, نفسه]\n",
       "3    [زلزلالملعبنصرنابيلعب, كن, عالي, الهمه, ولا, ت...\n",
       "4    [الشيء, الوحيد, الذي, وصلوا, فيه, لعالميه, هو,...\n",
       "5    [الاتحادالنصر, لاتحسبونا, نسينا, يالطواقي, ولا...\n",
       "6                   [احبك, انت, وياه, واموري, من, سعه]\n",
       "7    [تامل, قال, اله, ﷻ, بواد, غير, ذي, زرع, ومع, ذ...\n",
       "8    [وينهم, الي, يرقصوا, مع, زخات, المطر, خلونا, ن...\n",
       "9    [الهم, امين, يارب, العالمين, انتي, وانا, وامه,...\n",
       "Name: tweet_text, dtype: object"
      ]
     },
     "execution_count": 18,
     "metadata": {},
     "output_type": "execute_result"
    }
   ],
   "source": [
    "positive[\"tweet_text\"].head(10)"
   ]
  },
  {
   "cell_type": "code",
   "execution_count": 19,
   "id": "66f52330",
   "metadata": {
    "id": "66f52330"
   },
   "outputs": [],
   "source": [
    "stopwords_list = stopwords.words('arabic')\n",
    "w=['ال','الي','و', 'ان', 'ع', 'اذا', 'او', 'الا', 'ف']\n",
    "for i in w:\n",
    "    stopwords_list.append(i)"
   ]
  },
  {
   "cell_type": "code",
   "execution_count": 20,
   "id": "af083415",
   "metadata": {
    "colab": {
     "base_uri": "https://localhost:8080/"
    },
    "id": "af083415",
    "outputId": "14091edd-94bf-4924-dc4f-b7d9c126a90b"
   },
   "outputs": [
    {
     "data": {
      "text/plain": [
       "['إذ',\n",
       " 'إذا',\n",
       " 'إذما',\n",
       " 'إذن',\n",
       " 'أف',\n",
       " 'أقل',\n",
       " 'أكثر',\n",
       " 'ألا',\n",
       " 'إلا',\n",
       " 'التي',\n",
       " 'الذي',\n",
       " 'الذين',\n",
       " 'اللاتي',\n",
       " 'اللائي',\n",
       " 'اللتان',\n",
       " 'اللتيا',\n",
       " 'اللتين',\n",
       " 'اللذان',\n",
       " 'اللذين',\n",
       " 'اللواتي',\n",
       " 'إلى',\n",
       " 'إليك',\n",
       " 'إليكم',\n",
       " 'إليكما',\n",
       " 'إليكن',\n",
       " 'أم',\n",
       " 'أما',\n",
       " 'أما',\n",
       " 'إما',\n",
       " 'أن',\n",
       " 'إن',\n",
       " 'إنا',\n",
       " 'أنا',\n",
       " 'أنت',\n",
       " 'أنتم',\n",
       " 'أنتما',\n",
       " 'أنتن',\n",
       " 'إنما',\n",
       " 'إنه',\n",
       " 'أنى',\n",
       " 'أنى',\n",
       " 'آه',\n",
       " 'آها',\n",
       " 'أو',\n",
       " 'أولاء',\n",
       " 'أولئك',\n",
       " 'أوه',\n",
       " 'آي',\n",
       " 'أي',\n",
       " 'أيها',\n",
       " 'إي',\n",
       " 'أين',\n",
       " 'أين',\n",
       " 'أينما',\n",
       " 'إيه',\n",
       " 'بخ',\n",
       " 'بس',\n",
       " 'بعد',\n",
       " 'بعض',\n",
       " 'بك',\n",
       " 'بكم',\n",
       " 'بكم',\n",
       " 'بكما',\n",
       " 'بكن',\n",
       " 'بل',\n",
       " 'بلى',\n",
       " 'بما',\n",
       " 'بماذا',\n",
       " 'بمن',\n",
       " 'بنا',\n",
       " 'به',\n",
       " 'بها',\n",
       " 'بهم',\n",
       " 'بهما',\n",
       " 'بهن',\n",
       " 'بي',\n",
       " 'بين',\n",
       " 'بيد',\n",
       " 'تلك',\n",
       " 'تلكم',\n",
       " 'تلكما',\n",
       " 'ته',\n",
       " 'تي',\n",
       " 'تين',\n",
       " 'تينك',\n",
       " 'ثم',\n",
       " 'ثمة',\n",
       " 'حاشا',\n",
       " 'حبذا',\n",
       " 'حتى',\n",
       " 'حيث',\n",
       " 'حيثما',\n",
       " 'حين',\n",
       " 'خلا',\n",
       " 'دون',\n",
       " 'ذا',\n",
       " 'ذات',\n",
       " 'ذاك',\n",
       " 'ذان',\n",
       " 'ذانك',\n",
       " 'ذلك',\n",
       " 'ذلكم',\n",
       " 'ذلكما',\n",
       " 'ذلكن',\n",
       " 'ذه',\n",
       " 'ذو',\n",
       " 'ذوا',\n",
       " 'ذواتا',\n",
       " 'ذواتي',\n",
       " 'ذي',\n",
       " 'ذين',\n",
       " 'ذينك',\n",
       " 'ريث',\n",
       " 'سوف',\n",
       " 'سوى',\n",
       " 'شتان',\n",
       " 'عدا',\n",
       " 'عسى',\n",
       " 'عل',\n",
       " 'على',\n",
       " 'عليك',\n",
       " 'عليه',\n",
       " 'عما',\n",
       " 'عن',\n",
       " 'عند',\n",
       " 'غير',\n",
       " 'فإذا',\n",
       " 'فإن',\n",
       " 'فلا',\n",
       " 'فمن',\n",
       " 'في',\n",
       " 'فيم',\n",
       " 'فيما',\n",
       " 'فيه',\n",
       " 'فيها',\n",
       " 'قد',\n",
       " 'كأن',\n",
       " 'كأنما',\n",
       " 'كأي',\n",
       " 'كأين',\n",
       " 'كذا',\n",
       " 'كذلك',\n",
       " 'كل',\n",
       " 'كلا',\n",
       " 'كلاهما',\n",
       " 'كلتا',\n",
       " 'كلما',\n",
       " 'كليكما',\n",
       " 'كليهما',\n",
       " 'كم',\n",
       " 'كم',\n",
       " 'كما',\n",
       " 'كي',\n",
       " 'كيت',\n",
       " 'كيف',\n",
       " 'كيفما',\n",
       " 'لا',\n",
       " 'لاسيما',\n",
       " 'لدى',\n",
       " 'لست',\n",
       " 'لستم',\n",
       " 'لستما',\n",
       " 'لستن',\n",
       " 'لسن',\n",
       " 'لسنا',\n",
       " 'لعل',\n",
       " 'لك',\n",
       " 'لكم',\n",
       " 'لكما',\n",
       " 'لكن',\n",
       " 'لكنما',\n",
       " 'لكي',\n",
       " 'لكيلا',\n",
       " 'لم',\n",
       " 'لما',\n",
       " 'لن',\n",
       " 'لنا',\n",
       " 'له',\n",
       " 'لها',\n",
       " 'لهم',\n",
       " 'لهما',\n",
       " 'لهن',\n",
       " 'لو',\n",
       " 'لولا',\n",
       " 'لوما',\n",
       " 'لي',\n",
       " 'لئن',\n",
       " 'ليت',\n",
       " 'ليس',\n",
       " 'ليسا',\n",
       " 'ليست',\n",
       " 'ليستا',\n",
       " 'ليسوا',\n",
       " 'ما',\n",
       " 'ماذا',\n",
       " 'متى',\n",
       " 'مذ',\n",
       " 'مع',\n",
       " 'مما',\n",
       " 'ممن',\n",
       " 'من',\n",
       " 'منه',\n",
       " 'منها',\n",
       " 'منذ',\n",
       " 'مه',\n",
       " 'مهما',\n",
       " 'نحن',\n",
       " 'نحو',\n",
       " 'نعم',\n",
       " 'ها',\n",
       " 'هاتان',\n",
       " 'هاته',\n",
       " 'هاتي',\n",
       " 'هاتين',\n",
       " 'هاك',\n",
       " 'هاهنا',\n",
       " 'هذا',\n",
       " 'هذان',\n",
       " 'هذه',\n",
       " 'هذي',\n",
       " 'هذين',\n",
       " 'هكذا',\n",
       " 'هل',\n",
       " 'هلا',\n",
       " 'هم',\n",
       " 'هما',\n",
       " 'هن',\n",
       " 'هنا',\n",
       " 'هناك',\n",
       " 'هنالك',\n",
       " 'هو',\n",
       " 'هؤلاء',\n",
       " 'هي',\n",
       " 'هيا',\n",
       " 'هيت',\n",
       " 'هيهات',\n",
       " 'والذي',\n",
       " 'والذين',\n",
       " 'وإذ',\n",
       " 'وإذا',\n",
       " 'وإن',\n",
       " 'ولا',\n",
       " 'ولكن',\n",
       " 'ولو',\n",
       " 'وما',\n",
       " 'ومن',\n",
       " 'وهو',\n",
       " 'يا',\n",
       " 'أبٌ',\n",
       " 'أخٌ',\n",
       " 'حمٌ',\n",
       " 'فو',\n",
       " 'أنتِ',\n",
       " 'يناير',\n",
       " 'فبراير',\n",
       " 'مارس',\n",
       " 'أبريل',\n",
       " 'مايو',\n",
       " 'يونيو',\n",
       " 'يوليو',\n",
       " 'أغسطس',\n",
       " 'سبتمبر',\n",
       " 'أكتوبر',\n",
       " 'نوفمبر',\n",
       " 'ديسمبر',\n",
       " 'جانفي',\n",
       " 'فيفري',\n",
       " 'مارس',\n",
       " 'أفريل',\n",
       " 'ماي',\n",
       " 'جوان',\n",
       " 'جويلية',\n",
       " 'أوت',\n",
       " 'كانون',\n",
       " 'شباط',\n",
       " 'آذار',\n",
       " 'نيسان',\n",
       " 'أيار',\n",
       " 'حزيران',\n",
       " 'تموز',\n",
       " 'آب',\n",
       " 'أيلول',\n",
       " 'تشرين',\n",
       " 'دولار',\n",
       " 'دينار',\n",
       " 'ريال',\n",
       " 'درهم',\n",
       " 'ليرة',\n",
       " 'جنيه',\n",
       " 'قرش',\n",
       " 'مليم',\n",
       " 'فلس',\n",
       " 'هللة',\n",
       " 'سنتيم',\n",
       " 'يورو',\n",
       " 'ين',\n",
       " 'يوان',\n",
       " 'شيكل',\n",
       " 'واحد',\n",
       " 'اثنان',\n",
       " 'ثلاثة',\n",
       " 'أربعة',\n",
       " 'خمسة',\n",
       " 'ستة',\n",
       " 'سبعة',\n",
       " 'ثمانية',\n",
       " 'تسعة',\n",
       " 'عشرة',\n",
       " 'أحد',\n",
       " 'اثنا',\n",
       " 'اثني',\n",
       " 'إحدى',\n",
       " 'ثلاث',\n",
       " 'أربع',\n",
       " 'خمس',\n",
       " 'ست',\n",
       " 'سبع',\n",
       " 'ثماني',\n",
       " 'تسع',\n",
       " 'عشر',\n",
       " 'ثمان',\n",
       " 'سبت',\n",
       " 'أحد',\n",
       " 'اثنين',\n",
       " 'ثلاثاء',\n",
       " 'أربعاء',\n",
       " 'خميس',\n",
       " 'جمعة',\n",
       " 'أول',\n",
       " 'ثان',\n",
       " 'ثاني',\n",
       " 'ثالث',\n",
       " 'رابع',\n",
       " 'خامس',\n",
       " 'سادس',\n",
       " 'سابع',\n",
       " 'ثامن',\n",
       " 'تاسع',\n",
       " 'عاشر',\n",
       " 'حادي',\n",
       " 'أ',\n",
       " 'ب',\n",
       " 'ت',\n",
       " 'ث',\n",
       " 'ج',\n",
       " 'ح',\n",
       " 'خ',\n",
       " 'د',\n",
       " 'ذ',\n",
       " 'ر',\n",
       " 'ز',\n",
       " 'س',\n",
       " 'ش',\n",
       " 'ص',\n",
       " 'ض',\n",
       " 'ط',\n",
       " 'ظ',\n",
       " 'ع',\n",
       " 'غ',\n",
       " 'ف',\n",
       " 'ق',\n",
       " 'ك',\n",
       " 'ل',\n",
       " 'م',\n",
       " 'ن',\n",
       " 'ه',\n",
       " 'و',\n",
       " 'ي',\n",
       " 'ء',\n",
       " 'ى',\n",
       " 'آ',\n",
       " 'ؤ',\n",
       " 'ئ',\n",
       " 'أ',\n",
       " 'ة',\n",
       " 'ألف',\n",
       " 'باء',\n",
       " 'تاء',\n",
       " 'ثاء',\n",
       " 'جيم',\n",
       " 'حاء',\n",
       " 'خاء',\n",
       " 'دال',\n",
       " 'ذال',\n",
       " 'راء',\n",
       " 'زاي',\n",
       " 'سين',\n",
       " 'شين',\n",
       " 'صاد',\n",
       " 'ضاد',\n",
       " 'طاء',\n",
       " 'ظاء',\n",
       " 'عين',\n",
       " 'غين',\n",
       " 'فاء',\n",
       " 'قاف',\n",
       " 'كاف',\n",
       " 'لام',\n",
       " 'ميم',\n",
       " 'نون',\n",
       " 'هاء',\n",
       " 'واو',\n",
       " 'ياء',\n",
       " 'همزة',\n",
       " 'ي',\n",
       " 'نا',\n",
       " 'ك',\n",
       " 'كن',\n",
       " 'ه',\n",
       " 'إياه',\n",
       " 'إياها',\n",
       " 'إياهما',\n",
       " 'إياهم',\n",
       " 'إياهن',\n",
       " 'إياك',\n",
       " 'إياكما',\n",
       " 'إياكم',\n",
       " 'إياك',\n",
       " 'إياكن',\n",
       " 'إياي',\n",
       " 'إيانا',\n",
       " 'أولالك',\n",
       " 'تانِ',\n",
       " 'تانِك',\n",
       " 'تِه',\n",
       " 'تِي',\n",
       " 'تَيْنِ',\n",
       " 'ثمّ',\n",
       " 'ثمّة',\n",
       " 'ذانِ',\n",
       " 'ذِه',\n",
       " 'ذِي',\n",
       " 'ذَيْنِ',\n",
       " 'هَؤلاء',\n",
       " 'هَاتانِ',\n",
       " 'هَاتِه',\n",
       " 'هَاتِي',\n",
       " 'هَاتَيْنِ',\n",
       " 'هَذا',\n",
       " 'هَذانِ',\n",
       " 'هَذِه',\n",
       " 'هَذِي',\n",
       " 'هَذَيْنِ',\n",
       " 'الألى',\n",
       " 'الألاء',\n",
       " 'أل',\n",
       " 'أنّى',\n",
       " 'أيّ',\n",
       " 'ّأيّان',\n",
       " 'أنّى',\n",
       " 'أيّ',\n",
       " 'ّأيّان',\n",
       " 'ذيت',\n",
       " 'كأيّ',\n",
       " 'كأيّن',\n",
       " 'بضع',\n",
       " 'فلان',\n",
       " 'وا',\n",
       " 'آمينَ',\n",
       " 'آهِ',\n",
       " 'آهٍ',\n",
       " 'آهاً',\n",
       " 'أُفٍّ',\n",
       " 'أُفٍّ',\n",
       " 'أفٍّ',\n",
       " 'أمامك',\n",
       " 'أمامكَ',\n",
       " 'أوّهْ',\n",
       " 'إلَيْكَ',\n",
       " 'إلَيْكَ',\n",
       " 'إليكَ',\n",
       " 'إليكنّ',\n",
       " 'إيهٍ',\n",
       " 'بخٍ',\n",
       " 'بسّ',\n",
       " 'بَسْ',\n",
       " 'بطآن',\n",
       " 'بَلْهَ',\n",
       " 'حاي',\n",
       " 'حَذارِ',\n",
       " 'حيَّ',\n",
       " 'حيَّ',\n",
       " 'دونك',\n",
       " 'رويدك',\n",
       " 'سرعان',\n",
       " 'شتانَ',\n",
       " 'شَتَّانَ',\n",
       " 'صهْ',\n",
       " 'صهٍ',\n",
       " 'طاق',\n",
       " 'طَق',\n",
       " 'عَدَسْ',\n",
       " 'كِخ',\n",
       " 'مكانَك',\n",
       " 'مكانَك',\n",
       " 'مكانَك',\n",
       " 'مكانكم',\n",
       " 'مكانكما',\n",
       " 'مكانكنّ',\n",
       " 'نَخْ',\n",
       " 'هاكَ',\n",
       " 'هَجْ',\n",
       " 'هلم',\n",
       " 'هيّا',\n",
       " 'هَيْهات',\n",
       " 'وا',\n",
       " 'واهاً',\n",
       " 'وراءَك',\n",
       " 'وُشْكَانَ',\n",
       " 'وَيْ',\n",
       " 'يفعلان',\n",
       " 'تفعلان',\n",
       " 'يفعلون',\n",
       " 'تفعلون',\n",
       " 'تفعلين',\n",
       " 'اتخذ',\n",
       " 'ألفى',\n",
       " 'تخذ',\n",
       " 'ترك',\n",
       " 'تعلَّم',\n",
       " 'جعل',\n",
       " 'حجا',\n",
       " 'حبيب',\n",
       " 'خال',\n",
       " 'حسب',\n",
       " 'خال',\n",
       " 'درى',\n",
       " 'رأى',\n",
       " 'زعم',\n",
       " 'صبر',\n",
       " 'ظنَّ',\n",
       " 'عدَّ',\n",
       " 'علم',\n",
       " 'غادر',\n",
       " 'ذهب',\n",
       " 'وجد',\n",
       " 'ورد',\n",
       " 'وهب',\n",
       " 'أسكن',\n",
       " 'أطعم',\n",
       " 'أعطى',\n",
       " 'رزق',\n",
       " 'زود',\n",
       " 'سقى',\n",
       " 'كسا',\n",
       " 'أخبر',\n",
       " 'أرى',\n",
       " 'أعلم',\n",
       " 'أنبأ',\n",
       " 'حدَث',\n",
       " 'خبَّر',\n",
       " 'نبَّا',\n",
       " 'أفعل به',\n",
       " 'ما أفعله',\n",
       " 'بئس',\n",
       " 'ساء',\n",
       " 'طالما',\n",
       " 'قلما',\n",
       " 'لات',\n",
       " 'لكنَّ',\n",
       " 'ءَ',\n",
       " 'أجل',\n",
       " 'إذاً',\n",
       " 'أمّا',\n",
       " 'إمّا',\n",
       " 'إنَّ',\n",
       " 'أنًّ',\n",
       " 'أى',\n",
       " 'إى',\n",
       " 'أيا',\n",
       " 'ب',\n",
       " 'ثمَّ',\n",
       " 'جلل',\n",
       " 'جير',\n",
       " 'رُبَّ',\n",
       " 'س',\n",
       " 'علًّ',\n",
       " 'ف',\n",
       " 'كأنّ',\n",
       " 'كلَّا',\n",
       " 'كى',\n",
       " 'ل',\n",
       " 'لات',\n",
       " 'لعلَّ',\n",
       " 'لكنَّ',\n",
       " 'لكنَّ',\n",
       " 'م',\n",
       " 'نَّ',\n",
       " 'هلّا',\n",
       " 'وا',\n",
       " 'أل',\n",
       " 'إلّا',\n",
       " 'ت',\n",
       " 'ك',\n",
       " 'لمّا',\n",
       " 'ن',\n",
       " 'ه',\n",
       " 'و',\n",
       " 'ا',\n",
       " 'ي',\n",
       " 'تجاه',\n",
       " 'تلقاء',\n",
       " 'جميع',\n",
       " 'حسب',\n",
       " 'سبحان',\n",
       " 'شبه',\n",
       " 'لعمر',\n",
       " 'مثل',\n",
       " 'معاذ',\n",
       " 'أبو',\n",
       " 'أخو',\n",
       " 'حمو',\n",
       " 'فو',\n",
       " 'مئة',\n",
       " 'مئتان',\n",
       " 'ثلاثمئة',\n",
       " 'أربعمئة',\n",
       " 'خمسمئة',\n",
       " 'ستمئة',\n",
       " 'سبعمئة',\n",
       " 'ثمنمئة',\n",
       " 'تسعمئة',\n",
       " 'مائة',\n",
       " 'ثلاثمائة',\n",
       " 'أربعمائة',\n",
       " 'خمسمائة',\n",
       " 'ستمائة',\n",
       " 'سبعمائة',\n",
       " 'ثمانمئة',\n",
       " 'تسعمائة',\n",
       " 'عشرون',\n",
       " 'ثلاثون',\n",
       " 'اربعون',\n",
       " 'خمسون',\n",
       " 'ستون',\n",
       " 'سبعون',\n",
       " 'ثمانون',\n",
       " 'تسعون',\n",
       " 'عشرين',\n",
       " 'ثلاثين',\n",
       " 'اربعين',\n",
       " 'خمسين',\n",
       " 'ستين',\n",
       " 'سبعين',\n",
       " 'ثمانين',\n",
       " 'تسعين',\n",
       " 'بضع',\n",
       " 'نيف',\n",
       " 'أجمع',\n",
       " 'جميع',\n",
       " 'عامة',\n",
       " 'عين',\n",
       " 'نفس',\n",
       " 'لا سيما',\n",
       " 'أصلا',\n",
       " 'أهلا',\n",
       " 'أيضا',\n",
       " 'بؤسا',\n",
       " 'بعدا',\n",
       " 'بغتة',\n",
       " 'تعسا',\n",
       " 'حقا',\n",
       " 'حمدا',\n",
       " 'خلافا',\n",
       " 'خاصة',\n",
       " 'دواليك',\n",
       " 'سحقا',\n",
       " 'سرا',\n",
       " 'سمعا',\n",
       " 'صبرا',\n",
       " 'صدقا',\n",
       " 'صراحة',\n",
       " 'طرا',\n",
       " 'عجبا',\n",
       " 'عيانا',\n",
       " 'غالبا',\n",
       " 'فرادى',\n",
       " 'فضلا',\n",
       " 'قاطبة',\n",
       " 'كثيرا',\n",
       " 'لبيك',\n",
       " 'معاذ',\n",
       " 'أبدا',\n",
       " 'إزاء',\n",
       " 'أصلا',\n",
       " 'الآن',\n",
       " 'أمد',\n",
       " 'أمس',\n",
       " 'آنفا',\n",
       " 'آناء',\n",
       " 'أنّى',\n",
       " 'أول',\n",
       " 'أيّان',\n",
       " 'تارة',\n",
       " 'ثمّ',\n",
       " 'ثمّة',\n",
       " 'حقا',\n",
       " 'صباح',\n",
       " 'مساء',\n",
       " 'ضحوة',\n",
       " 'عوض',\n",
       " 'غدا',\n",
       " 'غداة',\n",
       " 'قطّ',\n",
       " 'كلّما',\n",
       " 'لدن',\n",
       " 'لمّا',\n",
       " 'مرّة',\n",
       " 'قبل',\n",
       " 'خلف',\n",
       " 'أمام',\n",
       " 'فوق',\n",
       " 'تحت',\n",
       " 'يمين',\n",
       " 'شمال',\n",
       " 'ارتدّ',\n",
       " 'استحال',\n",
       " 'أصبح',\n",
       " 'أضحى',\n",
       " 'آض',\n",
       " 'أمسى',\n",
       " 'انقلب',\n",
       " 'بات',\n",
       " 'تبدّل',\n",
       " 'تحوّل',\n",
       " 'حار',\n",
       " 'رجع',\n",
       " 'راح',\n",
       " 'صار',\n",
       " 'ظلّ',\n",
       " 'عاد',\n",
       " 'غدا',\n",
       " 'كان',\n",
       " 'ما انفك',\n",
       " 'ما برح',\n",
       " 'مادام',\n",
       " 'مازال',\n",
       " 'مافتئ',\n",
       " 'ابتدأ',\n",
       " 'أخذ',\n",
       " 'اخلولق',\n",
       " 'أقبل',\n",
       " 'انبرى',\n",
       " 'أنشأ',\n",
       " 'أوشك',\n",
       " 'جعل',\n",
       " 'حرى',\n",
       " 'شرع',\n",
       " 'طفق',\n",
       " 'علق',\n",
       " 'قام',\n",
       " 'كرب',\n",
       " 'كاد',\n",
       " 'هبّ',\n",
       " 'ال',\n",
       " 'الي',\n",
       " 'و',\n",
       " 'ان',\n",
       " 'ع',\n",
       " 'اذا',\n",
       " 'او',\n",
       " 'الا',\n",
       " 'ف']"
      ]
     },
     "execution_count": 20,
     "metadata": {},
     "output_type": "execute_result"
    }
   ],
   "source": [
    "stopwords_list"
   ]
  },
  {
   "cell_type": "code",
   "execution_count": 21,
   "id": "06204335",
   "metadata": {
    "colab": {
     "base_uri": "https://localhost:8080/"
    },
    "id": "06204335",
    "outputId": "b8fbf8a7-70a7-4042-f50e-3f3aa4e500c1"
   },
   "outputs": [
    {
     "data": {
      "text/plain": [
       "763"
      ]
     },
     "execution_count": 21,
     "metadata": {},
     "output_type": "execute_result"
    }
   ],
   "source": [
    "len(stopwords_list)"
   ]
  },
  {
   "cell_type": "code",
   "execution_count": 22,
   "id": "721ee8c7",
   "metadata": {
    "id": "721ee8c7"
   },
   "outputs": [],
   "source": [
    "listToStr = ' '.join([str(elem) for elem in stopwords_list])"
   ]
  },
  {
   "cell_type": "code",
   "execution_count": 23,
   "id": "f33ebc7c",
   "metadata": {
    "colab": {
     "base_uri": "https://localhost:8080/",
     "height": 88
    },
    "id": "f33ebc7c",
    "outputId": "07a8d3ee-beeb-4f02-c5cf-8099ce2f1491"
   },
   "outputs": [
    {
     "data": {
      "text/plain": [
       "'إذ إذا إذما إذن أف أقل أكثر ألا إلا التي الذي الذين اللاتي اللائي اللتان اللتيا اللتين اللذان اللذين اللواتي إلى إليك إليكم إليكما إليكن أم أما أما إما أن إن إنا أنا أنت أنتم أنتما أنتن إنما إنه أنى أنى آه آها أو أولاء أولئك أوه آي أي أيها إي أين أين أينما إيه بخ بس بعد بعض بك بكم بكم بكما بكن بل بلى بما بماذا بمن بنا به بها بهم بهما بهن بي بين بيد تلك تلكم تلكما ته تي تين تينك ثم ثمة حاشا حبذا حتى حيث حيثما حين خلا دون ذا ذات ذاك ذان ذانك ذلك ذلكم ذلكما ذلكن ذه ذو ذوا ذواتا ذواتي ذي ذين ذينك ريث سوف سوى شتان عدا عسى عل على عليك عليه عما عن عند غير فإذا فإن فلا فمن في فيم فيما فيه فيها قد كأن كأنما كأي كأين كذا كذلك كل كلا كلاهما كلتا كلما كليكما كليهما كم كم كما كي كيت كيف كيفما لا لاسيما لدى لست لستم لستما لستن لسن لسنا لعل لك لكم لكما لكن لكنما لكي لكيلا لم لما لن لنا له لها لهم لهما لهن لو لولا لوما لي لئن ليت ليس ليسا ليست ليستا ليسوا ما ماذا متى مذ مع مما ممن من منه منها منذ مه مهما نحن نحو نعم ها هاتان هاته هاتي هاتين هاك هاهنا هذا هذان هذه هذي هذين هكذا هل هلا هم هما هن هنا هناك هنالك هو هؤلاء هي هيا هيت هيهات والذي والذين وإذ وإذا وإن ولا ولكن ولو وما ومن وهو يا أبٌ أخٌ حمٌ فو أنتِ يناير فبراير مارس أبريل مايو يونيو يوليو أغسطس سبتمبر أكتوبر نوفمبر ديسمبر جانفي فيفري مارس أفريل ماي جوان جويلية أوت كانون شباط آذار نيسان أيار حزيران تموز آب أيلول تشرين دولار دينار ريال درهم ليرة جنيه قرش مليم فلس هللة سنتيم يورو ين يوان شيكل واحد اثنان ثلاثة أربعة خمسة ستة سبعة ثمانية تسعة عشرة أحد اثنا اثني إحدى ثلاث أربع خمس ست سبع ثماني تسع عشر ثمان سبت أحد اثنين ثلاثاء أربعاء خميس جمعة أول ثان ثاني ثالث رابع خامس سادس سابع ثامن تاسع عاشر حادي أ ب ت ث ج ح خ د ذ ر ز س ش ص ض ط ظ ع غ ف ق ك ل م ن ه و ي ء ى آ ؤ ئ أ ة ألف باء تاء ثاء جيم حاء خاء دال ذال راء زاي سين شين صاد ضاد طاء ظاء عين غين فاء قاف كاف لام ميم نون هاء واو ياء همزة ي نا ك كن ه إياه إياها إياهما إياهم إياهن إياك إياكما إياكم إياك إياكن إياي إيانا أولالك تانِ تانِك تِه تِي تَيْنِ ثمّ ثمّة ذانِ ذِه ذِي ذَيْنِ هَؤلاء هَاتانِ هَاتِه هَاتِي هَاتَيْنِ هَذا هَذانِ هَذِه هَذِي هَذَيْنِ الألى الألاء أل أنّى أيّ ّأيّان أنّى أيّ ّأيّان ذيت كأيّ كأيّن بضع فلان وا آمينَ آهِ آهٍ آهاً أُفٍّ أُفٍّ أفٍّ أمامك أمامكَ أوّهْ إلَيْكَ إلَيْكَ إليكَ إليكنّ إيهٍ بخٍ بسّ بَسْ بطآن بَلْهَ حاي حَذارِ حيَّ حيَّ دونك رويدك سرعان شتانَ شَتَّانَ صهْ صهٍ طاق طَق عَدَسْ كِخ مكانَك مكانَك مكانَك مكانكم مكانكما مكانكنّ نَخْ هاكَ هَجْ هلم هيّا هَيْهات وا واهاً وراءَك وُشْكَانَ وَيْ يفعلان تفعلان يفعلون تفعلون تفعلين اتخذ ألفى تخذ ترك تعلَّم جعل حجا حبيب خال حسب خال درى رأى زعم صبر ظنَّ عدَّ علم غادر ذهب وجد ورد وهب أسكن أطعم أعطى رزق زود سقى كسا أخبر أرى أعلم أنبأ حدَث خبَّر نبَّا أفعل به ما أفعله بئس ساء طالما قلما لات لكنَّ ءَ أجل إذاً أمّا إمّا إنَّ أنًّ أى إى أيا ب ثمَّ جلل جير رُبَّ س علًّ ف كأنّ كلَّا كى ل لات لعلَّ لكنَّ لكنَّ م نَّ هلّا وا أل إلّا ت ك لمّا ن ه و ا ي تجاه تلقاء جميع حسب سبحان شبه لعمر مثل معاذ أبو أخو حمو فو مئة مئتان ثلاثمئة أربعمئة خمسمئة ستمئة سبعمئة ثمنمئة تسعمئة مائة ثلاثمائة أربعمائة خمسمائة ستمائة سبعمائة ثمانمئة تسعمائة عشرون ثلاثون اربعون خمسون ستون سبعون ثمانون تسعون عشرين ثلاثين اربعين خمسين ستين سبعين ثمانين تسعين بضع نيف أجمع جميع عامة عين نفس لا سيما أصلا أهلا أيضا بؤسا بعدا بغتة تعسا حقا حمدا خلافا خاصة دواليك سحقا سرا سمعا صبرا صدقا صراحة طرا عجبا عيانا غالبا فرادى فضلا قاطبة كثيرا لبيك معاذ أبدا إزاء أصلا الآن أمد أمس آنفا آناء أنّى أول أيّان تارة ثمّ ثمّة حقا صباح مساء ضحوة عوض غدا غداة قطّ كلّما لدن لمّا مرّة قبل خلف أمام فوق تحت يمين شمال ارتدّ استحال أصبح أضحى آض أمسى انقلب بات تبدّل تحوّل حار رجع راح صار ظلّ عاد غدا كان ما انفك ما برح مادام مازال مافتئ ابتدأ أخذ اخلولق أقبل انبرى أنشأ أوشك جعل حرى شرع طفق علق قام كرب كاد هبّ ال الي و ان ع اذا او الا ف'"
      ]
     },
     "execution_count": 23,
     "metadata": {},
     "output_type": "execute_result"
    }
   ],
   "source": [
    "listToStr"
   ]
  },
  {
   "cell_type": "code",
   "execution_count": 24,
   "id": "45bebf95",
   "metadata": {
    "id": "45bebf95"
   },
   "outputs": [],
   "source": [
    "positive[\"tweet_text\"]=positive[\"tweet_text\"].apply(lambda x: [item for item in x if item not in stopwords_list])"
   ]
  },
  {
   "cell_type": "code",
   "execution_count": 25,
   "id": "9ec2363a",
   "metadata": {
    "colab": {
     "base_uri": "https://localhost:8080/"
    },
    "id": "9ec2363a",
    "outputId": "0167bb25-d329-4fc8-9ce0-c5637af9fe76"
   },
   "outputs": [
    {
     "data": {
      "text/plain": [
       "0    [يتحول, نود, نقوله, دعاء, تبحثوا, فينا, قوه, ا...\n",
       "1    [وفي, النهايه, يبقي, معك, احدالا, راي, الجمال,...\n",
       "2                                        [الخير, نفسه]\n",
       "3    [زلزلالملعبنصرنابيلعب, عالي, الهمه, ترضي, بغير...\n",
       "4    [الشيء, الوحيد, وصلوا, لعالميه, المسيار, تري, ...\n",
       "5    [الاتحادالنصر, لاتحسبونا, نسينا, يالطواقي, ولا...\n",
       "6                       [احبك, انت, وياه, واموري, سعه]\n",
       "7    [تامل, قال, اله, ﷻ, بواد, زرع, ومع, هتف, بالدع...\n",
       "8    [وينهم, يرقصوا, زخات, المطر, خلونا, نشوفكم, لا...\n",
       "9    [الهم, امين, يارب, العالمين, انتي, وانا, وامه,...\n",
       "Name: tweet_text, dtype: object"
      ]
     },
     "execution_count": 25,
     "metadata": {},
     "output_type": "execute_result"
    }
   ],
   "source": [
    "positive[\"tweet_text\"].head(10)"
   ]
  },
  {
   "cell_type": "markdown",
   "id": "fad0c161",
   "metadata": {
    "id": "fad0c161"
   },
   "source": [
    "# Positive tweets text information"
   ]
  },
  {
   "cell_type": "code",
   "execution_count": 26,
   "id": "44126a7b",
   "metadata": {
    "colab": {
     "base_uri": "https://localhost:8080/"
    },
    "id": "44126a7b",
    "outputId": "c3536d04-a4c5-4cce-d3af-7547a7500884"
   },
   "outputs": [
    {
     "name": "stdout",
     "output_type": "stream",
     "text": [
      "274519 words total, with a vocabulary size of 43401\n",
      "Max sentence length 985\n"
     ]
    }
   ],
   "source": [
    "all_words = [word for tokens in positive[\"tweet_text\"] for word in tokens]\n",
    "sentence_lengths = [len(tokens) for tokens in positive[\"tweet_text\"]]\n",
    "\n",
    "VOCAB = sorted(list(set(all_words)))\n",
    "\n",
    "print(f'{len(all_words)} words total, with a vocabulary size of {len(VOCAB)}')\n",
    "print(f'Max sentence length {max(sentence_lengths)}')"
   ]
  },
  {
   "cell_type": "markdown",
   "id": "3fcc7418",
   "metadata": {
    "id": "3fcc7418"
   },
   "source": [
    " "
   ]
  },
  {
   "cell_type": "markdown",
   "id": "c449abd5",
   "metadata": {
    "id": "c449abd5"
   },
   "source": [
    "# Arabic_tweets_negative dataset"
   ]
  },
  {
   "cell_type": "code",
   "execution_count": 27,
   "id": "f84b361e",
   "metadata": {
    "id": "f84b361e"
   },
   "outputs": [],
   "source": [
    "cols = ['class','tweet_text']\n",
    "negative = pd.read_csv('négative.tsv',sep='\\t', error_bad_lines = False ,header=None, names=cols)"
   ]
  },
  {
   "cell_type": "code",
   "execution_count": 28,
   "id": "f04c445b",
   "metadata": {
    "colab": {
     "base_uri": "https://localhost:8080/"
    },
    "id": "f04c445b",
    "outputId": "84ed9dc4-51b2-40fa-afc4-0037f3a42583"
   },
   "outputs": [
    {
     "data": {
      "text/html": [
       "<div>\n",
       "<style scoped>\n",
       "    .dataframe tbody tr th:only-of-type {\n",
       "        vertical-align: middle;\n",
       "    }\n",
       "\n",
       "    .dataframe tbody tr th {\n",
       "        vertical-align: top;\n",
       "    }\n",
       "\n",
       "    .dataframe thead th {\n",
       "        text-align: right;\n",
       "    }\n",
       "</style>\n",
       "<table border=\"1\" class=\"dataframe\">\n",
       "  <thead>\n",
       "    <tr style=\"text-align: right;\">\n",
       "      <th></th>\n",
       "      <th>class</th>\n",
       "      <th>tweet_text</th>\n",
       "    </tr>\n",
       "  </thead>\n",
       "  <tbody>\n",
       "    <tr>\n",
       "      <th>0</th>\n",
       "      <td>neg</td>\n",
       "      <td>اعترف ان بتس كانو شوي شوي يجيبو راسي لكن اليوم...</td>\n",
       "    </tr>\n",
       "    <tr>\n",
       "      <th>1</th>\n",
       "      <td>neg</td>\n",
       "      <td>توقعت اذا جات داريا بشوفهم كاملين بس لي للحين ...</td>\n",
       "    </tr>\n",
       "    <tr>\n",
       "      <th>2</th>\n",
       "      <td>neg</td>\n",
       "      <td>#الاهلي_الهلال اكتب توقعك لنتيجة لقاء الهلال و...</td>\n",
       "    </tr>\n",
       "    <tr>\n",
       "      <th>3</th>\n",
       "      <td>neg</td>\n",
       "      <td>نعمة المضادات الحيوية . تضع قطرة💧مضاد بنسلين ع...</td>\n",
       "    </tr>\n",
       "    <tr>\n",
       "      <th>4</th>\n",
       "      <td>neg</td>\n",
       "      <td>الدودو جايه تكمل علي 💔</td>\n",
       "    </tr>\n",
       "    <tr>\n",
       "      <th>5</th>\n",
       "      <td>neg</td>\n",
       "      <td>أحببته حتى أقنعنى إن ما فات من العمر كان إنتظا...</td>\n",
       "    </tr>\n",
       "    <tr>\n",
       "      <th>6</th>\n",
       "      <td>neg</td>\n",
       "      <td>يبدو ان دجلة اعتادت على التهام اجساد ابنائها م...</td>\n",
       "    </tr>\n",
       "    <tr>\n",
       "      <th>7</th>\n",
       "      <td>neg</td>\n",
       "      <td>جالس أذاكر 😣</td>\n",
       "    </tr>\n",
       "    <tr>\n",
       "      <th>8</th>\n",
       "      <td>neg</td>\n",
       "      <td>يكفي استخفاف بالعقل العربي هل حقا الأمن والمخا...</td>\n",
       "    </tr>\n",
       "    <tr>\n",
       "      <th>9</th>\n",
       "      <td>neg</td>\n",
       "      <td>ياليلل ترا اكلج كثير مشي 😭</td>\n",
       "    </tr>\n",
       "    <tr>\n",
       "      <th>10</th>\n",
       "      <td>neg</td>\n",
       "      <td>لو بيدي أرجع ساعتي وين أرجع؟ إليا صدفه؟ والله ...</td>\n",
       "    </tr>\n",
       "    <tr>\n",
       "      <th>11</th>\n",
       "      <td>neg</td>\n",
       "      <td>ليه محد يسوي معي كذا 💔</td>\n",
       "    </tr>\n",
       "    <tr>\n",
       "      <th>12</th>\n",
       "      <td>neg</td>\n",
       "      <td>. . . . انت يمكن الي ناسي احداث البصرة قبل شهو...</td>\n",
       "    </tr>\n",
       "    <tr>\n",
       "      <th>13</th>\n",
       "      <td>neg</td>\n",
       "      <td>الله يعين بس 😔</td>\n",
       "    </tr>\n",
       "    <tr>\n",
       "      <th>14</th>\n",
       "      <td>neg</td>\n",
       "      <td>اتفرج على اداءاتهم امس تقريبا كلهم قربوا من ال...</td>\n",
       "    </tr>\n",
       "    <tr>\n",
       "      <th>15</th>\n",
       "      <td>neg</td>\n",
       "      <td>⚛ تبي شي يقويك جنسيا 😳 ☣ فوريفر تعطيك 😉 🔸 *مجم...</td>\n",
       "    </tr>\n",
       "    <tr>\n",
       "      <th>16</th>\n",
       "      <td>neg</td>\n",
       "      <td>مش وقته خالص التعب ده 😭</td>\n",
       "    </tr>\n",
       "    <tr>\n",
       "      <th>17</th>\n",
       "      <td>neg</td>\n",
       "      <td>عرفنا انه الفلوس تغير النفوس أما تتغير وانت مف...</td>\n",
       "    </tr>\n",
       "    <tr>\n",
       "      <th>18</th>\n",
       "      <td>neg</td>\n",
       "      <td>ربنا يرزقگ ببن الحلال 💔</td>\n",
       "    </tr>\n",
       "    <tr>\n",
       "      <th>19</th>\n",
       "      <td>neg</td>\n",
       "      <td>أجمل ما حل بي الوقوع بك 🥀</td>\n",
       "    </tr>\n",
       "    <tr>\n",
       "      <th>20</th>\n",
       "      <td>neg</td>\n",
       "      <td>مقبوله منك 💔</td>\n",
       "    </tr>\n",
       "    <tr>\n",
       "      <th>21</th>\n",
       "      <td>neg</td>\n",
       "      <td>السفير الامريكي كشف المستخبي 😑</td>\n",
       "    </tr>\n",
       "    <tr>\n",
       "      <th>22</th>\n",
       "      <td>neg</td>\n",
       "      <td>الله يسلمك 😓</td>\n",
       "    </tr>\n",
       "    <tr>\n",
       "      <th>23</th>\n",
       "      <td>neg</td>\n",
       "      <td>_⛔ #مناحل_ابو_سلطان . . 🍯 اقسم بالله انه عسل 🍯...</td>\n",
       "    </tr>\n",
       "    <tr>\n",
       "      <th>24</th>\n",
       "      <td>neg</td>\n",
       "      <td>بنشكر الله انو القلب عضلة مو عظم .. بضل التعضي...</td>\n",
       "    </tr>\n",
       "    <tr>\n",
       "      <th>25</th>\n",
       "      <td>neg</td>\n",
       "      <td>و عندما تسألني عن أحباب هذا الزمان .. فأجيبك :...</td>\n",
       "    </tr>\n",
       "    <tr>\n",
       "      <th>26</th>\n",
       "      <td>neg</td>\n",
       "      <td>ع الأقل الماي مايعور كثر النار 😩</td>\n",
       "    </tr>\n",
       "    <tr>\n",
       "      <th>27</th>\n",
       "      <td>neg</td>\n",
       "      <td>واللي مستلم 😔</td>\n",
       "    </tr>\n",
       "    <tr>\n",
       "      <th>28</th>\n",
       "      <td>neg</td>\n",
       "      <td>.لإﺂ تغرگ ضحگتي ؤتقول❌ #مرتإﺂحﮩ😌 ;رگز بإﺂلضحگه...</td>\n",
       "    </tr>\n",
       "    <tr>\n",
       "      <th>29</th>\n",
       "      <td>neg</td>\n",
       "      <td>📌 من يخاف فليس منا.. تصبحون على خير #النصر_الا...</td>\n",
       "    </tr>\n",
       "    <tr>\n",
       "      <th>30</th>\n",
       "      <td>neg</td>\n",
       "      <td>#احد_الفيحاء مبروك للفيحاء الخروج من شبح الهبو...</td>\n",
       "    </tr>\n",
       "    <tr>\n",
       "      <th>31</th>\n",
       "      <td>neg</td>\n",
       "      <td>لعب فينا البعوض 😤</td>\n",
       "    </tr>\n",
       "    <tr>\n",
       "      <th>32</th>\n",
       "      <td>neg</td>\n",
       "      <td>افتكرت فيه ناس يسونها طلعت وحيده 😶</td>\n",
       "    </tr>\n",
       "    <tr>\n",
       "      <th>33</th>\n",
       "      <td>neg</td>\n",
       "      <td>لعب فينا البعوض 😤</td>\n",
       "    </tr>\n",
       "    <tr>\n",
       "      <th>34</th>\n",
       "      <td>neg</td>\n",
       "      <td>سكتشاتي القديمه 💔</td>\n",
       "    </tr>\n",
       "    <tr>\n",
       "      <th>35</th>\n",
       "      <td>neg</td>\n",
       "      <td>😭😭هذي المشكلهه :(</td>\n",
       "    </tr>\n",
       "    <tr>\n",
       "      <th>36</th>\n",
       "      <td>neg</td>\n",
       "      <td>و للاسف انه يركض موب بس يمشي 💔</td>\n",
       "    </tr>\n",
       "    <tr>\n",
       "      <th>37</th>\n",
       "      <td>neg</td>\n",
       "      <td>كيف سويتي كذا ي اسطوره 😲</td>\n",
       "    </tr>\n",
       "    <tr>\n",
       "      <th>38</th>\n",
       "      <td>neg</td>\n",
       "      <td>~~☆ #هناا_الوحي ✋ تحذير للجماهير⚠الصفرااء سلام...</td>\n",
       "    </tr>\n",
       "    <tr>\n",
       "      <th>39</th>\n",
       "      <td>neg</td>\n",
       "      <td>وانت ي حزين فرحتك هتكمل امتى 🤔</td>\n",
       "    </tr>\n",
       "    <tr>\n",
       "      <th>40</th>\n",
       "      <td>neg</td>\n",
       "      <td>الابتسامه نفسها ما تتغير 😭</td>\n",
       "    </tr>\n",
       "    <tr>\n",
       "      <th>41</th>\n",
       "      <td>neg</td>\n",
       "      <td>ليه في ناس تكذب و تعطيك أمل زائف 😕</td>\n",
       "    </tr>\n",
       "    <tr>\n",
       "      <th>42</th>\n",
       "      <td>neg</td>\n",
       "      <td>بنشكر الله انو القلب عضلة مو عظم .. بضل التعضي...</td>\n",
       "    </tr>\n",
       "    <tr>\n",
       "      <th>43</th>\n",
       "      <td>neg</td>\n",
       "      <td>عندما نشتاق لمن فقدناهم ، تغيب لذة كل شئ بالحي...</td>\n",
       "    </tr>\n",
       "    <tr>\n",
       "      <th>44</th>\n",
       "      <td>neg</td>\n",
       "      <td>. #فهيدان_للدعم #نجوم_الليل_للدعم 🥀 رغم كل شيء...</td>\n",
       "    </tr>\n",
       "    <tr>\n",
       "      <th>45</th>\n",
       "      <td>neg</td>\n",
       "      <td>بسم الله 💔</td>\n",
       "    </tr>\n",
       "    <tr>\n",
       "      <th>46</th>\n",
       "      <td>neg</td>\n",
       "      <td>نفس تفكيري خصوصا بوجود حمتو جنبه</td>\n",
       "    </tr>\n",
       "    <tr>\n",
       "      <th>47</th>\n",
       "      <td>neg</td>\n",
       "      <td>فعلا جيل أول مرتاحين نفسيا مو مثل اللحين كل وا...</td>\n",
       "    </tr>\n",
       "    <tr>\n",
       "      <th>48</th>\n",
       "      <td>neg</td>\n",
       "      <td>الواحد احيانا يتعب من جمال ابتسامة شخصه المفضل 💔</td>\n",
       "    </tr>\n",
       "    <tr>\n",
       "      <th>49</th>\n",
       "      <td>neg</td>\n",
       "      <td>ي الله كيف الواحد يذاكر بذا الازعج 😭</td>\n",
       "    </tr>\n",
       "  </tbody>\n",
       "</table>\n",
       "</div>"
      ],
      "text/plain": [
       "   class                                         tweet_text\n",
       "0    neg  اعترف ان بتس كانو شوي شوي يجيبو راسي لكن اليوم...\n",
       "1    neg  توقعت اذا جات داريا بشوفهم كاملين بس لي للحين ...\n",
       "2    neg  #الاهلي_الهلال اكتب توقعك لنتيجة لقاء الهلال و...\n",
       "3    neg  نعمة المضادات الحيوية . تضع قطرة💧مضاد بنسلين ع...\n",
       "4    neg                             الدودو جايه تكمل علي 💔\n",
       "5    neg  أحببته حتى أقنعنى إن ما فات من العمر كان إنتظا...\n",
       "6    neg  يبدو ان دجلة اعتادت على التهام اجساد ابنائها م...\n",
       "7    neg                                       جالس أذاكر 😣\n",
       "8    neg  يكفي استخفاف بالعقل العربي هل حقا الأمن والمخا...\n",
       "9    neg                         ياليلل ترا اكلج كثير مشي 😭\n",
       "10   neg  لو بيدي أرجع ساعتي وين أرجع؟ إليا صدفه؟ والله ...\n",
       "11   neg                             ليه محد يسوي معي كذا 💔\n",
       "12   neg  . . . . انت يمكن الي ناسي احداث البصرة قبل شهو...\n",
       "13   neg                                     الله يعين بس 😔\n",
       "14   neg  اتفرج على اداءاتهم امس تقريبا كلهم قربوا من ال...\n",
       "15   neg  ⚛ تبي شي يقويك جنسيا 😳 ☣ فوريفر تعطيك 😉 🔸 *مجم...\n",
       "16   neg                            مش وقته خالص التعب ده 😭\n",
       "17   neg  عرفنا انه الفلوس تغير النفوس أما تتغير وانت مف...\n",
       "18   neg                            ربنا يرزقگ ببن الحلال 💔\n",
       "19   neg                          أجمل ما حل بي الوقوع بك 🥀\n",
       "20   neg                                       مقبوله منك 💔\n",
       "21   neg                     السفير الامريكي كشف المستخبي 😑\n",
       "22   neg                                       الله يسلمك 😓\n",
       "23   neg  _⛔ #مناحل_ابو_سلطان . . 🍯 اقسم بالله انه عسل 🍯...\n",
       "24   neg  بنشكر الله انو القلب عضلة مو عظم .. بضل التعضي...\n",
       "25   neg  و عندما تسألني عن أحباب هذا الزمان .. فأجيبك :...\n",
       "26   neg                   ع الأقل الماي مايعور كثر النار 😩\n",
       "27   neg                                      واللي مستلم 😔\n",
       "28   neg  .لإﺂ تغرگ ضحگتي ؤتقول❌ #مرتإﺂحﮩ😌 ;رگز بإﺂلضحگه...\n",
       "29   neg  📌 من يخاف فليس منا.. تصبحون على خير #النصر_الا...\n",
       "30   neg  #احد_الفيحاء مبروك للفيحاء الخروج من شبح الهبو...\n",
       "31   neg                                  لعب فينا البعوض 😤\n",
       "32   neg                 افتكرت فيه ناس يسونها طلعت وحيده 😶\n",
       "33   neg                                  لعب فينا البعوض 😤\n",
       "34   neg                                  سكتشاتي القديمه 💔\n",
       "35   neg                                  😭😭هذي المشكلهه :(\n",
       "36   neg                     و للاسف انه يركض موب بس يمشي 💔\n",
       "37   neg                           كيف سويتي كذا ي اسطوره 😲\n",
       "38   neg  ~~☆ #هناا_الوحي ✋ تحذير للجماهير⚠الصفرااء سلام...\n",
       "39   neg                     وانت ي حزين فرحتك هتكمل امتى 🤔\n",
       "40   neg                         الابتسامه نفسها ما تتغير 😭\n",
       "41   neg                 ليه في ناس تكذب و تعطيك أمل زائف 😕\n",
       "42   neg  بنشكر الله انو القلب عضلة مو عظم .. بضل التعضي...\n",
       "43   neg  عندما نشتاق لمن فقدناهم ، تغيب لذة كل شئ بالحي...\n",
       "44   neg  . #فهيدان_للدعم #نجوم_الليل_للدعم 🥀 رغم كل شيء...\n",
       "45   neg                                         بسم الله 💔\n",
       "46   neg                   نفس تفكيري خصوصا بوجود حمتو جنبه\n",
       "47   neg  فعلا جيل أول مرتاحين نفسيا مو مثل اللحين كل وا...\n",
       "48   neg   الواحد احيانا يتعب من جمال ابتسامة شخصه المفضل 💔\n",
       "49   neg               ي الله كيف الواحد يذاكر بذا الازعج 😭"
      ]
     },
     "execution_count": 28,
     "metadata": {},
     "output_type": "execute_result"
    }
   ],
   "source": [
    "negative.head(50)"
   ]
  },
  {
   "cell_type": "markdown",
   "id": "08699d97",
   "metadata": {
    "id": "08699d97"
   },
   "source": [
    " "
   ]
  },
  {
   "cell_type": "markdown",
   "id": "8e2aa507",
   "metadata": {
    "id": "8e2aa507"
   },
   "source": [
    "# Sample of the negative twittes text"
   ]
  },
  {
   "cell_type": "code",
   "execution_count": 29,
   "id": "55968f75",
   "metadata": {
    "colab": {
     "base_uri": "https://localhost:8080/"
    },
    "id": "55968f75",
    "outputId": "ff88d677-f9f3-4e48-fee4-b5f8733b4720"
   },
   "outputs": [
    {
     "data": {
      "text/plain": [
       "0    اعترف ان بتس كانو شوي شوي يجيبو راسي لكن اليوم...\n",
       "1    توقعت اذا جات داريا بشوفهم كاملين بس لي للحين ...\n",
       "2    #الاهلي_الهلال اكتب توقعك لنتيجة لقاء الهلال و...\n",
       "3    نعمة المضادات الحيوية . تضع قطرة💧مضاد بنسلين ع...\n",
       "4                               الدودو جايه تكمل علي 💔\n",
       "Name: tweet_text, dtype: object"
      ]
     },
     "execution_count": 29,
     "metadata": {},
     "output_type": "execute_result"
    }
   ],
   "source": [
    "negative['tweet_text'].head()"
   ]
  },
  {
   "cell_type": "markdown",
   "id": "59df19ad",
   "metadata": {
    "id": "59df19ad"
   },
   "source": [
    "# Sample of the target "
   ]
  },
  {
   "cell_type": "code",
   "execution_count": 30,
   "id": "1797be5d",
   "metadata": {
    "colab": {
     "base_uri": "https://localhost:8080/"
    },
    "id": "1797be5d",
    "outputId": "c52b874c-8122-4b4a-d53f-91d72350ffc6"
   },
   "outputs": [
    {
     "data": {
      "text/plain": [
       "0    neg\n",
       "1    neg\n",
       "2    neg\n",
       "3    neg\n",
       "4    neg\n",
       "Name: class, dtype: object"
      ]
     },
     "execution_count": 30,
     "metadata": {},
     "output_type": "execute_result"
    }
   ],
   "source": [
    "negative['class'].head()"
   ]
  },
  {
   "cell_type": "markdown",
   "id": "a8cd50a3",
   "metadata": {
    "id": "a8cd50a3"
   },
   "source": [
    " "
   ]
  },
  {
   "cell_type": "code",
   "execution_count": 31,
   "id": "0782f85b",
   "metadata": {
    "colab": {
     "base_uri": "https://localhost:8080/"
    },
    "id": "0782f85b",
    "outputId": "156869a9-debd-4bee-8fa6-0f1979fddee5"
   },
   "outputs": [
    {
     "data": {
      "text/plain": [
       "0"
      ]
     },
     "execution_count": 31,
     "metadata": {},
     "output_type": "execute_result"
    }
   ],
   "source": [
    "np.sum(negative.isnull().any(axis=1))"
   ]
  },
  {
   "cell_type": "markdown",
   "id": "8b5d2ade",
   "metadata": {
    "id": "8b5d2ade"
   },
   "source": [
    "# EDA"
   ]
  },
  {
   "cell_type": "code",
   "execution_count": 32,
   "id": "b5546e1c",
   "metadata": {
    "colab": {
     "base_uri": "https://localhost:8080/"
    },
    "id": "b5546e1c",
    "outputId": "3e4eaa99-5763-4eb3-aaf5-d27f23e7c809"
   },
   "outputs": [
    {
     "name": "stdout",
     "output_type": "stream",
     "text": [
      "<class 'pandas.core.frame.DataFrame'>\n",
      "RangeIndex: 45028 entries, 0 to 45027\n",
      "Data columns (total 2 columns):\n",
      " #   Column      Non-Null Count  Dtype \n",
      "---  ------      --------------  ----- \n",
      " 0   class       45028 non-null  object\n",
      " 1   tweet_text  45028 non-null  object\n",
      "dtypes: object(2)\n",
      "memory usage: 703.7+ KB\n"
     ]
    }
   ],
   "source": [
    "negative.info()"
   ]
  },
  {
   "cell_type": "markdown",
   "id": "ed369d15",
   "metadata": {
    "id": "ed369d15"
   },
   "source": [
    "# Cleaning the text"
   ]
  },
  {
   "cell_type": "code",
   "execution_count": 33,
   "id": "9b9c4be3",
   "metadata": {
    "id": "9b9c4be3"
   },
   "outputs": [],
   "source": [
    "for letter in '#.][!XRﷺ':\n",
    "    negative['tweet_text'] = negative['tweet_text'].astype(str).str.replace(letter,'')"
   ]
  },
  {
   "cell_type": "code",
   "execution_count": 34,
   "id": "0105fb69",
   "metadata": {
    "colab": {
     "base_uri": "https://localhost:8080/",
     "height": 832
    },
    "id": "0105fb69",
    "outputId": "f6c046c9-e92f-4032-bc07-6f0a709c4198"
   },
   "outputs": [
    {
     "data": {
      "text/html": [
       "<div>\n",
       "<style scoped>\n",
       "    .dataframe tbody tr th:only-of-type {\n",
       "        vertical-align: middle;\n",
       "    }\n",
       "\n",
       "    .dataframe tbody tr th {\n",
       "        vertical-align: top;\n",
       "    }\n",
       "\n",
       "    .dataframe thead th {\n",
       "        text-align: right;\n",
       "    }\n",
       "</style>\n",
       "<table border=\"1\" class=\"dataframe\">\n",
       "  <thead>\n",
       "    <tr style=\"text-align: right;\">\n",
       "      <th></th>\n",
       "      <th>class</th>\n",
       "      <th>tweet_text</th>\n",
       "    </tr>\n",
       "  </thead>\n",
       "  <tbody>\n",
       "    <tr>\n",
       "      <th>0</th>\n",
       "      <td>neg</td>\n",
       "      <td>اعترف ان بتس كانو شوي شوي يجيبو راسي لكن اليوم...</td>\n",
       "    </tr>\n",
       "    <tr>\n",
       "      <th>1</th>\n",
       "      <td>neg</td>\n",
       "      <td>توقعت اذا جات داريا بشوفهم كاملين بس لي للحين ...</td>\n",
       "    </tr>\n",
       "    <tr>\n",
       "      <th>2</th>\n",
       "      <td>neg</td>\n",
       "      <td>الاهلي_الهلال اكتب توقعك لنتيجة لقاء الهلال وا...</td>\n",
       "    </tr>\n",
       "    <tr>\n",
       "      <th>3</th>\n",
       "      <td>neg</td>\n",
       "      <td>نعمة المضادات الحيوية  تضع قطرة💧مضاد بنسلين عل...</td>\n",
       "    </tr>\n",
       "    <tr>\n",
       "      <th>4</th>\n",
       "      <td>neg</td>\n",
       "      <td>الدودو جايه تكمل علي 💔</td>\n",
       "    </tr>\n",
       "    <tr>\n",
       "      <th>5</th>\n",
       "      <td>neg</td>\n",
       "      <td>أحببته حتى أقنعنى إن ما فات من العمر كان إنتظا...</td>\n",
       "    </tr>\n",
       "    <tr>\n",
       "      <th>6</th>\n",
       "      <td>neg</td>\n",
       "      <td>يبدو ان دجلة اعتادت على التهام اجساد ابنائها م...</td>\n",
       "    </tr>\n",
       "    <tr>\n",
       "      <th>7</th>\n",
       "      <td>neg</td>\n",
       "      <td>جالس أذاكر 😣</td>\n",
       "    </tr>\n",
       "    <tr>\n",
       "      <th>8</th>\n",
       "      <td>neg</td>\n",
       "      <td>يكفي استخفاف بالعقل العربي هل حقا الأمن والمخا...</td>\n",
       "    </tr>\n",
       "    <tr>\n",
       "      <th>9</th>\n",
       "      <td>neg</td>\n",
       "      <td>ياليلل ترا اكلج كثير مشي 😭</td>\n",
       "    </tr>\n",
       "    <tr>\n",
       "      <th>10</th>\n",
       "      <td>neg</td>\n",
       "      <td>لو بيدي أرجع ساعتي وين أرجع؟ إليا صدفه؟ والله ...</td>\n",
       "    </tr>\n",
       "    <tr>\n",
       "      <th>11</th>\n",
       "      <td>neg</td>\n",
       "      <td>ليه محد يسوي معي كذا 💔</td>\n",
       "    </tr>\n",
       "    <tr>\n",
       "      <th>12</th>\n",
       "      <td>neg</td>\n",
       "      <td>انت يمكن الي ناسي احداث البصرة قبل شهور او...</td>\n",
       "    </tr>\n",
       "    <tr>\n",
       "      <th>13</th>\n",
       "      <td>neg</td>\n",
       "      <td>الله يعين بس 😔</td>\n",
       "    </tr>\n",
       "    <tr>\n",
       "      <th>14</th>\n",
       "      <td>neg</td>\n",
       "      <td>اتفرج على اداءاتهم امس تقريبا كلهم قربوا من ال...</td>\n",
       "    </tr>\n",
       "    <tr>\n",
       "      <th>15</th>\n",
       "      <td>neg</td>\n",
       "      <td>⚛ تبي شي يقويك جنسيا 😳 ☣ فوريفر تعطيك 😉 🔸 *مجم...</td>\n",
       "    </tr>\n",
       "    <tr>\n",
       "      <th>16</th>\n",
       "      <td>neg</td>\n",
       "      <td>مش وقته خالص التعب ده 😭</td>\n",
       "    </tr>\n",
       "    <tr>\n",
       "      <th>17</th>\n",
       "      <td>neg</td>\n",
       "      <td>عرفنا انه الفلوس تغير النفوس أما تتغير وانت مف...</td>\n",
       "    </tr>\n",
       "    <tr>\n",
       "      <th>18</th>\n",
       "      <td>neg</td>\n",
       "      <td>ربنا يرزقگ ببن الحلال 💔</td>\n",
       "    </tr>\n",
       "    <tr>\n",
       "      <th>19</th>\n",
       "      <td>neg</td>\n",
       "      <td>أجمل ما حل بي الوقوع بك 🥀</td>\n",
       "    </tr>\n",
       "    <tr>\n",
       "      <th>20</th>\n",
       "      <td>neg</td>\n",
       "      <td>مقبوله منك 💔</td>\n",
       "    </tr>\n",
       "    <tr>\n",
       "      <th>21</th>\n",
       "      <td>neg</td>\n",
       "      <td>السفير الامريكي كشف المستخبي 😑</td>\n",
       "    </tr>\n",
       "    <tr>\n",
       "      <th>22</th>\n",
       "      <td>neg</td>\n",
       "      <td>الله يسلمك 😓</td>\n",
       "    </tr>\n",
       "    <tr>\n",
       "      <th>23</th>\n",
       "      <td>neg</td>\n",
       "      <td>_⛔ مناحل_ابو_سلطان   🍯 اقسم بالله انه عسل 🍯   ...</td>\n",
       "    </tr>\n",
       "    <tr>\n",
       "      <th>24</th>\n",
       "      <td>neg</td>\n",
       "      <td>بنشكر الله انو القلب عضلة مو عظم  بضل التعضيل ...</td>\n",
       "    </tr>\n",
       "  </tbody>\n",
       "</table>\n",
       "</div>"
      ],
      "text/plain": [
       "   class                                         tweet_text\n",
       "0    neg  اعترف ان بتس كانو شوي شوي يجيبو راسي لكن اليوم...\n",
       "1    neg  توقعت اذا جات داريا بشوفهم كاملين بس لي للحين ...\n",
       "2    neg  الاهلي_الهلال اكتب توقعك لنتيجة لقاء الهلال وا...\n",
       "3    neg  نعمة المضادات الحيوية  تضع قطرة💧مضاد بنسلين عل...\n",
       "4    neg                             الدودو جايه تكمل علي 💔\n",
       "5    neg  أحببته حتى أقنعنى إن ما فات من العمر كان إنتظا...\n",
       "6    neg  يبدو ان دجلة اعتادت على التهام اجساد ابنائها م...\n",
       "7    neg                                       جالس أذاكر 😣\n",
       "8    neg  يكفي استخفاف بالعقل العربي هل حقا الأمن والمخا...\n",
       "9    neg                         ياليلل ترا اكلج كثير مشي 😭\n",
       "10   neg  لو بيدي أرجع ساعتي وين أرجع؟ إليا صدفه؟ والله ...\n",
       "11   neg                             ليه محد يسوي معي كذا 💔\n",
       "12   neg      انت يمكن الي ناسي احداث البصرة قبل شهور او...\n",
       "13   neg                                     الله يعين بس 😔\n",
       "14   neg  اتفرج على اداءاتهم امس تقريبا كلهم قربوا من ال...\n",
       "15   neg  ⚛ تبي شي يقويك جنسيا 😳 ☣ فوريفر تعطيك 😉 🔸 *مجم...\n",
       "16   neg                            مش وقته خالص التعب ده 😭\n",
       "17   neg  عرفنا انه الفلوس تغير النفوس أما تتغير وانت مف...\n",
       "18   neg                            ربنا يرزقگ ببن الحلال 💔\n",
       "19   neg                          أجمل ما حل بي الوقوع بك 🥀\n",
       "20   neg                                       مقبوله منك 💔\n",
       "21   neg                     السفير الامريكي كشف المستخبي 😑\n",
       "22   neg                                       الله يسلمك 😓\n",
       "23   neg  _⛔ مناحل_ابو_سلطان   🍯 اقسم بالله انه عسل 🍯   ...\n",
       "24   neg  بنشكر الله انو القلب عضلة مو عظم  بضل التعضيل ..."
      ]
     },
     "execution_count": 34,
     "metadata": {},
     "output_type": "execute_result"
    }
   ],
   "source": [
    "negative.head(25)"
   ]
  },
  {
   "cell_type": "code",
   "execution_count": 35,
   "id": "3ee470de",
   "metadata": {
    "id": "3ee470de"
   },
   "outputs": [],
   "source": [
    "def processPost(tweet): \n",
    "\n",
    "    #delete @username with empty string\n",
    "    tweet = re.sub('@[^\\s]+', ' ', tweet)\n",
    "    \n",
    "    #delete www.* or https?://* to \" \"\n",
    "    tweet = re.sub('((www\\.[^\\s]+)|(https?://[^\\s]+))',' ',tweet)\n",
    "    \n",
    "    #Replace #word with word\n",
    "    tweet = re.sub(r'#([^\\s]+)', r'\\1', tweet)\n",
    "\n",
    "    # remove punctuations\n",
    "    tweet= remove_punctuations(tweet)\n",
    "    \n",
    "    # normalize the tweet\n",
    "    tweet= normalize_arabic(tweet)\n",
    "    \n",
    "    # remove repeated letters\n",
    "    tweet=remove_repeating_char(tweet)\n",
    "    tweet = re.sub(r'\\s*[A-Za-z]+\\b', '' , tweet)\n",
    "    tweet = tweet.rstrip()\n",
    "    \n",
    "    return tweet"
   ]
  },
  {
   "cell_type": "code",
   "execution_count": 36,
   "id": "cc8c3298",
   "metadata": {
    "id": "cc8c3298"
   },
   "outputs": [],
   "source": [
    "# apply used to call the method processpost\n",
    "negative[\"tweet_text\"] = negative['tweet_text'].apply(lambda x: processPost(x)) "
   ]
  },
  {
   "cell_type": "markdown",
   "id": "e0cca9e0",
   "metadata": {
    "id": "e0cca9e0"
   },
   "source": [
    "splits a string into substrings using a regular expression"
   ]
  },
  {
   "cell_type": "code",
   "execution_count": 37,
   "id": "73549d74",
   "metadata": {
    "id": "73549d74"
   },
   "outputs": [],
   "source": [
    "tokenizer = RegexpTokenizer(r'\\w+')\n",
    "negative[\"tweet_text\"] = negative[\"tweet_text\"].apply(tokenizer.tokenize)"
   ]
  },
  {
   "cell_type": "code",
   "execution_count": 38,
   "id": "4c309aab",
   "metadata": {
    "colab": {
     "base_uri": "https://localhost:8080/"
    },
    "id": "4c309aab",
    "outputId": "4103d913-b907-4c12-9378-049b1027aa62"
   },
   "outputs": [
    {
     "data": {
      "text/plain": [
       "0    [اعترف, ان, بتس, كانو, شوي, شوي, يجيبو, راسي, ...\n",
       "1    [توقعت, اذا, جات, داريا, بشوفهم, كاملين, بس, ل...\n",
       "2    [الاهليالهلال, اكتب, توقعك, لنتيجه, لقاء, الهل...\n",
       "3    [نعمه, المضادات, الحيويه, تضع, قطره, مضاد, بنس...\n",
       "4                            [الدودو, جايه, تكمل, علي]\n",
       "Name: tweet_text, dtype: object"
      ]
     },
     "execution_count": 38,
     "metadata": {},
     "output_type": "execute_result"
    }
   ],
   "source": [
    "negative[\"tweet_text\"].head()"
   ]
  },
  {
   "cell_type": "code",
   "execution_count": 39,
   "id": "5ca4575d",
   "metadata": {
    "id": "5ca4575d"
   },
   "outputs": [],
   "source": [
    "stopwords_list = stopwords.words('arabic')\n",
    "w=['و', 'ان', 'ع', 'اذا', 'او', 'الا', 'ف']\n",
    "for i in w:\n",
    "    stopwords_list.append(i)"
   ]
  },
  {
   "cell_type": "code",
   "execution_count": 40,
   "id": "cbe2fdd2",
   "metadata": {
    "id": "cbe2fdd2"
   },
   "outputs": [],
   "source": [
    "negative[\"tweet_text\"]=negative[\"tweet_text\"].apply(lambda x: [item for item in x if item not in stopwords_list])"
   ]
  },
  {
   "cell_type": "code",
   "execution_count": 41,
   "id": "f5acdd38",
   "metadata": {
    "colab": {
     "base_uri": "https://localhost:8080/"
    },
    "id": "f5acdd38",
    "outputId": "1539f4f9-950b-492a-a6b6-3c6aa41f91cd"
   },
   "outputs": [
    {
     "data": {
      "text/plain": [
       "0     [اعترف, بتس, كانو, شوي, شوي, يجيبو, راسي, اليو...\n",
       "1     [توقعت, جات, داريا, بشوفهم, كاملين, لحين, احس,...\n",
       "2     [الاهليالهلال, اكتب, توقعك, لنتيجه, لقاء, الهل...\n",
       "3     [نعمه, المضادات, الحيويه, تضع, قطره, مضاد, بنس...\n",
       "4                             [الدودو, جايه, تكمل, علي]\n",
       "5              [احبته, حتي, اقنعني, فات, العمر, انتظار]\n",
       "6     [يبدو, دجله, اعتادت, علي, التهام, اجساد, ابنائ...\n",
       "7                                         [جالس, اذاكر]\n",
       "8     [يكفي, استخفاف, بالعقل, العربي, الامن, والمخاب...\n",
       "9                         [ياليل, ترا, اكلج, كثير, مشي]\n",
       "10    [بيدي, ارجع, ساعتي, وين, ارجع, اليا, صدفه, وال...\n",
       "11                                [ليه, محد, يسوي, معي]\n",
       "12    [انت, يمكن, الي, ناسي, احداث, البصره, شهور, مت...\n",
       "13                                          [اله, يعين]\n",
       "14    [اتفرج, علي, اداءاتهم, امس, تقريبا, كلهم, قربو...\n",
       "15    [تبي, شي, يقويك, جنسيا, فوريفر, تعطيك, مجموعه,...\n",
       "16                          [مش, وقته, خالص, التعب, ده]\n",
       "17    [عرفنا, انه, الفلوس, تغير, النفوس, اما, تغير, ...\n",
       "18                            [ربنا, يرزقك, بن, الحلال]\n",
       "19                                   [اجمل, حل, الوقوع]\n",
       "20                                        [مقبوله, منك]\n",
       "21                    [السفير, الامريكي, كشف, المستخبي]\n",
       "22                                         [اله, يسلمك]\n",
       "23    [مناحلابوسلطان, اقسم, باله, انه, عسل, سدر, طبي...\n",
       "24    [بنشكر, اله, انو, القلب, عضله, مو, عظم, بضل, ا...\n",
       "Name: tweet_text, dtype: object"
      ]
     },
     "execution_count": 41,
     "metadata": {},
     "output_type": "execute_result"
    }
   ],
   "source": [
    "negative['tweet_text'].head(25)"
   ]
  },
  {
   "cell_type": "markdown",
   "id": "82ddc035",
   "metadata": {
    "id": "82ddc035"
   },
   "source": [
    "# Negative tweets text information"
   ]
  },
  {
   "cell_type": "code",
   "execution_count": 42,
   "id": "ba912c62",
   "metadata": {
    "colab": {
     "base_uri": "https://localhost:8080/"
    },
    "id": "ba912c62",
    "outputId": "0c8a92e6-aa92-4bb1-8f0c-08259e4a4327"
   },
   "outputs": [
    {
     "name": "stdout",
     "output_type": "stream",
     "text": [
      "406656 words total, with a vocabulary size of 37665\n",
      "Max sentence length 786\n"
     ]
    }
   ],
   "source": [
    "all_words = [word for tokens in negative[\"tweet_text\"] for word in tokens]\n",
    "sentence_lengths = [len(tokens) for tokens in negative[\"tweet_text\"]]\n",
    "\n",
    "VOCAB = sorted(list(set(all_words)))\n",
    "\n",
    "print(f'{len(all_words)} words total, with a vocabulary size of {len(VOCAB)}')\n",
    "print(f'Max sentence length {max(sentence_lengths)}')"
   ]
  },
  {
   "cell_type": "markdown",
   "id": "cd6221e6",
   "metadata": {
    "id": "cd6221e6"
   },
   "source": [
    "# Prepare the Final Data"
   ]
  },
  {
   "cell_type": "markdown",
   "id": "9f9c16be",
   "metadata": {
    "id": "9f9c16be"
   },
   "source": [
    "concatenate the postive and negative classes"
   ]
  },
  {
   "cell_type": "code",
   "execution_count": 43,
   "id": "28ba3a90",
   "metadata": {
    "id": "28ba3a90"
   },
   "outputs": [],
   "source": [
    "full_data = pd.concat([positive, negative], axis=0, ignore_index=True)"
   ]
  },
  {
   "cell_type": "code",
   "execution_count": 44,
   "id": "7fa46d00",
   "metadata": {
    "id": "7fa46d00",
    "outputId": "fa850d87-c6eb-4483-8902-69aa24567c36"
   },
   "outputs": [
    {
     "data": {
      "text/html": [
       "<div>\n",
       "<style scoped>\n",
       "    .dataframe tbody tr th:only-of-type {\n",
       "        vertical-align: middle;\n",
       "    }\n",
       "\n",
       "    .dataframe tbody tr th {\n",
       "        vertical-align: top;\n",
       "    }\n",
       "\n",
       "    .dataframe thead th {\n",
       "        text-align: right;\n",
       "    }\n",
       "</style>\n",
       "<table border=\"1\" class=\"dataframe\">\n",
       "  <thead>\n",
       "    <tr style=\"text-align: right;\">\n",
       "      <th></th>\n",
       "      <th>class</th>\n",
       "      <th>tweet_text</th>\n",
       "    </tr>\n",
       "  </thead>\n",
       "  <tbody>\n",
       "    <tr>\n",
       "      <th>0</th>\n",
       "      <td>pos</td>\n",
       "      <td>[يتحول, نود, نقوله, دعاء, تبحثوا, فينا, قوه, ا...</td>\n",
       "    </tr>\n",
       "    <tr>\n",
       "      <th>1</th>\n",
       "      <td>pos</td>\n",
       "      <td>[وفي, النهايه, يبقي, معك, احدالا, راي, الجمال,...</td>\n",
       "    </tr>\n",
       "    <tr>\n",
       "      <th>2</th>\n",
       "      <td>pos</td>\n",
       "      <td>[الخير, نفسه]</td>\n",
       "    </tr>\n",
       "    <tr>\n",
       "      <th>3</th>\n",
       "      <td>pos</td>\n",
       "      <td>[زلزلالملعبنصرنابيلعب, عالي, الهمه, ترضي, بغير...</td>\n",
       "    </tr>\n",
       "    <tr>\n",
       "      <th>4</th>\n",
       "      <td>pos</td>\n",
       "      <td>[الشيء, الوحيد, وصلوا, لعالميه, المسيار, تري, ...</td>\n",
       "    </tr>\n",
       "    <tr>\n",
       "      <th>...</th>\n",
       "      <td>...</td>\n",
       "      <td>...</td>\n",
       "    </tr>\n",
       "    <tr>\n",
       "      <th>73486</th>\n",
       "      <td>neg</td>\n",
       "      <td>[قاعده, اسوي, جدول, اجازتيوانا, اصلا, ماشفت, ج...</td>\n",
       "    </tr>\n",
       "    <tr>\n",
       "      <th>73487</th>\n",
       "      <td>neg</td>\n",
       "      <td>[اكثر, يهدم, العلاقات, انتظار, يسال, اولا]</td>\n",
       "    </tr>\n",
       "    <tr>\n",
       "      <th>73488</th>\n",
       "      <td>neg</td>\n",
       "      <td>[استطع, النوم]</td>\n",
       "    </tr>\n",
       "    <tr>\n",
       "      <th>73489</th>\n",
       "      <td>neg</td>\n",
       "      <td>[امي, يقال, البكاء, يتعب, الميت, سامحيني, فقد,...</td>\n",
       "    </tr>\n",
       "    <tr>\n",
       "      <th>73490</th>\n",
       "      <td>neg</td>\n",
       "      <td>[لازم, اروح, السكن, اصلا, عندي, مد, يوم, الارب...</td>\n",
       "    </tr>\n",
       "  </tbody>\n",
       "</table>\n",
       "<p>73491 rows × 2 columns</p>\n",
       "</div>"
      ],
      "text/plain": [
       "      class                                         tweet_text\n",
       "0       pos  [يتحول, نود, نقوله, دعاء, تبحثوا, فينا, قوه, ا...\n",
       "1       pos  [وفي, النهايه, يبقي, معك, احدالا, راي, الجمال,...\n",
       "2       pos                                      [الخير, نفسه]\n",
       "3       pos  [زلزلالملعبنصرنابيلعب, عالي, الهمه, ترضي, بغير...\n",
       "4       pos  [الشيء, الوحيد, وصلوا, لعالميه, المسيار, تري, ...\n",
       "...     ...                                                ...\n",
       "73486   neg  [قاعده, اسوي, جدول, اجازتيوانا, اصلا, ماشفت, ج...\n",
       "73487   neg         [اكثر, يهدم, العلاقات, انتظار, يسال, اولا]\n",
       "73488   neg                                     [استطع, النوم]\n",
       "73489   neg  [امي, يقال, البكاء, يتعب, الميت, سامحيني, فقد,...\n",
       "73490   neg  [لازم, اروح, السكن, اصلا, عندي, مد, يوم, الارب...\n",
       "\n",
       "[73491 rows x 2 columns]"
      ]
     },
     "execution_count": 44,
     "metadata": {},
     "output_type": "execute_result"
    }
   ],
   "source": [
    "full_data.head(-50)"
   ]
  },
  {
   "cell_type": "code",
   "execution_count": 45,
   "id": "78c17b1a",
   "metadata": {
    "id": "78c17b1a",
    "outputId": "04b0e617-7935-43e7-9519-2b8cebcf4d83"
   },
   "outputs": [
    {
     "name": "stdout",
     "output_type": "stream",
     "text": [
      "<class 'pandas.core.frame.DataFrame'>\n",
      "RangeIndex: 73541 entries, 0 to 73540\n",
      "Data columns (total 2 columns):\n",
      " #   Column      Non-Null Count  Dtype \n",
      "---  ------      --------------  ----- \n",
      " 0   class       73541 non-null  object\n",
      " 1   tweet_text  73541 non-null  object\n",
      "dtypes: object(2)\n",
      "memory usage: 1.1+ MB\n"
     ]
    }
   ],
   "source": [
    "full_data.info()"
   ]
  },
  {
   "cell_type": "code",
   "execution_count": 46,
   "id": "de9535a7",
   "metadata": {
    "id": "de9535a7",
    "outputId": "a5a02739-f6f1-4210-96f2-06f8414f29e3"
   },
   "outputs": [
    {
     "data": {
      "text/plain": [
       "73541"
      ]
     },
     "execution_count": 46,
     "metadata": {},
     "output_type": "execute_result"
    }
   ],
   "source": [
    "len(full_data)"
   ]
  },
  {
   "cell_type": "code",
   "execution_count": 47,
   "id": "61de1ccf",
   "metadata": {
    "id": "61de1ccf",
    "outputId": "99529191-9b05-4c23-db3f-17651990a162"
   },
   "outputs": [
    {
     "data": {
      "text/plain": [
       "neg    45028\n",
       "pos    28513\n",
       "Name: class, dtype: int64"
      ]
     },
     "execution_count": 47,
     "metadata": {},
     "output_type": "execute_result"
    }
   ],
   "source": [
    "y=full_data['class']\n",
    "y.value_counts()"
   ]
  },
  {
   "cell_type": "markdown",
   "id": "eacd75f6",
   "metadata": {
    "id": "eacd75f6"
   },
   "source": [
    "# Showing how the dataset is balance"
   ]
  },
  {
   "cell_type": "code",
   "execution_count": 48,
   "id": "8cafbe00",
   "metadata": {
    "id": "8cafbe00",
    "outputId": "4ff9c19d-c47e-4c10-f534-dd64326097ee"
   },
   "outputs": [
    {
     "data": {
      "text/plain": [
       "neg    45028\n",
       "pos    28513\n",
       "Name: class, dtype: int64"
      ]
     },
     "execution_count": 48,
     "metadata": {},
     "output_type": "execute_result"
    }
   ],
   "source": [
    "full_data['class'].value_counts()"
   ]
  },
  {
   "cell_type": "markdown",
   "id": "0f672abe",
   "metadata": {
    "id": "ca1d6c3f"
   },
   "source": [
    "# Convert class values (pos, neg) to (1,0) "
   ]
  },
  {
   "cell_type": "code",
   "execution_count": 49,
   "id": "fb37b0eb",
   "metadata": {
    "id": "fb37b0eb"
   },
   "outputs": [],
   "source": [
    "pro= preprocessing.LabelEncoder()\n",
    "enc_pro=pro.fit_transform(full_data['class'])\n",
    "full_data['class'] = enc_pro\n"
   ]
  },
  {
   "cell_type": "markdown",
   "id": "2a01a632",
   "metadata": {
    "id": "2a01a632"
   },
   "source": [
    "# Save the final dataset"
   ]
  },
  {
   "cell_type": "code",
   "execution_count": 50,
   "id": "db8b9968",
   "metadata": {
    "colab": {
     "base_uri": "https://localhost:8080/",
     "height": 166
    },
    "id": "db8b9968",
    "outputId": "37d05b89-5b27-43c5-9498-5bb9ac04b234"
   },
   "outputs": [],
   "source": [
    "full_data.to_pickle('full_df.pickle')"
   ]
  },
  {
   "cell_type": "code",
   "execution_count": 51,
   "id": "5aca1298",
   "metadata": {
    "colab": {
     "base_uri": "https://localhost:8080/",
     "height": 183
    },
    "id": "5aca1298",
    "outputId": "43fe3731-2253-4572-d9dd-e9e03d0345f7"
   },
   "outputs": [
    {
     "data": {
      "text/plain": [
       "pandas.core.series.Series"
      ]
     },
     "execution_count": 51,
     "metadata": {},
     "output_type": "execute_result"
    }
   ],
   "source": [
    "full_df = pd.read_pickle('full_df.pickle')\n",
    "type(full_df['tweet_text'].astype('str'))"
   ]
  },
  {
   "cell_type": "code",
   "execution_count": 52,
   "id": "563087dc",
   "metadata": {
    "id": "563087dc"
   },
   "outputs": [
    {
     "name": "stdout",
     "output_type": "stream",
     "text": [
      "<class 'pandas.core.frame.DataFrame'>\n",
      "RangeIndex: 73541 entries, 0 to 73540\n",
      "Data columns (total 2 columns):\n",
      " #   Column      Non-Null Count  Dtype \n",
      "---  ------      --------------  ----- \n",
      " 0   class       73541 non-null  int32 \n",
      " 1   tweet_text  73541 non-null  object\n",
      "dtypes: int32(1), object(1)\n",
      "memory usage: 861.9+ KB\n"
     ]
    }
   ],
   "source": [
    "full_df.info()"
   ]
  },
  {
   "cell_type": "markdown",
   "id": "5905c8eb",
   "metadata": {
    "id": "5905c8eb"
   },
   "source": [
    " "
   ]
  },
  {
   "cell_type": "markdown",
   "id": "8baab05f",
   "metadata": {
    "id": "8baab05f"
   },
   "source": [
    "# Machine Learning part"
   ]
  },
  {
   "cell_type": "markdown",
   "id": "0cabfff5",
   "metadata": {
    "id": "0cabfff5"
   },
   "source": [
    "# TFIDF"
   ]
  },
  {
   "cell_type": "code",
   "execution_count": 53,
   "id": "9ca76c63",
   "metadata": {
    "id": "9ca76c63",
    "outputId": "35507c1e-947b-4650-ef32-d907d8d36bc2"
   },
   "outputs": [
    {
     "data": {
      "text/plain": [
       "array(['يتحول نود نقوله دعاء تبحثوا فينا قوه انا مكسورون القوه',\n",
       "       'وفي النهايه يبقي معك احدالا راي الجمال روحك امالمنبهرون بالمظا',\n",
       "       'الخير نفسه', ..., 'لاول مره بنكون سوا', 'بقله ليش واطي',\n",
       "       'طال صبري النوي اذ تركتني كئيبا غريبا باكيا متوجعا يامهجتي ياروح قلبي ياراحتي اغثني قلبي'],\n",
       "      dtype=object)"
      ]
     },
     "execution_count": 53,
     "metadata": {},
     "output_type": "execute_result"
    }
   ],
   "source": [
    "full_df['tweet_text'].apply(lambda x: \" \".join(x)).values"
   ]
  },
  {
   "cell_type": "code",
   "execution_count": 54,
   "id": "a76837b8",
   "metadata": {
    "id": "a76837b8",
    "outputId": "e2b6c5fb-114b-4b39-e767-7de349a20fd8",
    "scrolled": true
   },
   "outputs": [
    {
     "data": {
      "text/html": [
       "<div>\n",
       "<style scoped>\n",
       "    .dataframe tbody tr th:only-of-type {\n",
       "        vertical-align: middle;\n",
       "    }\n",
       "\n",
       "    .dataframe tbody tr th {\n",
       "        vertical-align: top;\n",
       "    }\n",
       "\n",
       "    .dataframe thead th {\n",
       "        text-align: right;\n",
       "    }\n",
       "</style>\n",
       "<table border=\"1\" class=\"dataframe\">\n",
       "  <thead>\n",
       "    <tr style=\"text-align: right;\">\n",
       "      <th></th>\n",
       "      <th>10</th>\n",
       "      <th>15</th>\n",
       "      <th>16</th>\n",
       "      <th>1953</th>\n",
       "      <th>250</th>\n",
       "      <th>30</th>\n",
       "      <th>40</th>\n",
       "      <th>412</th>\n",
       "      <th>413</th>\n",
       "      <th>419</th>\n",
       "      <th>...</th>\n",
       "      <th>چذب</th>\n",
       "      <th>کل</th>\n",
       "      <th>ڪل</th>\n",
       "      <th>ڪلما</th>\n",
       "      <th>ګنت</th>\n",
       "      <th>گثيرا</th>\n",
       "      <th>ۈل</th>\n",
       "      <th>یبقی</th>\n",
       "      <th>یوم</th>\n",
       "      <th>ᓄᓚᓅɺ</th>\n",
       "    </tr>\n",
       "  </thead>\n",
       "  <tbody>\n",
       "    <tr>\n",
       "      <th>0</th>\n",
       "      <td>0.0</td>\n",
       "      <td>0.0</td>\n",
       "      <td>0.0</td>\n",
       "      <td>0.0</td>\n",
       "      <td>0.0</td>\n",
       "      <td>0.0</td>\n",
       "      <td>0.0</td>\n",
       "      <td>0.0</td>\n",
       "      <td>0.0</td>\n",
       "      <td>0.0</td>\n",
       "      <td>...</td>\n",
       "      <td>0.0</td>\n",
       "      <td>0.0</td>\n",
       "      <td>0.0</td>\n",
       "      <td>0.0</td>\n",
       "      <td>0.0</td>\n",
       "      <td>0.0</td>\n",
       "      <td>0.0</td>\n",
       "      <td>0.0</td>\n",
       "      <td>0.0</td>\n",
       "      <td>0.0</td>\n",
       "    </tr>\n",
       "    <tr>\n",
       "      <th>1</th>\n",
       "      <td>0.0</td>\n",
       "      <td>0.0</td>\n",
       "      <td>0.0</td>\n",
       "      <td>0.0</td>\n",
       "      <td>0.0</td>\n",
       "      <td>0.0</td>\n",
       "      <td>0.0</td>\n",
       "      <td>0.0</td>\n",
       "      <td>0.0</td>\n",
       "      <td>0.0</td>\n",
       "      <td>...</td>\n",
       "      <td>0.0</td>\n",
       "      <td>0.0</td>\n",
       "      <td>0.0</td>\n",
       "      <td>0.0</td>\n",
       "      <td>0.0</td>\n",
       "      <td>0.0</td>\n",
       "      <td>0.0</td>\n",
       "      <td>0.0</td>\n",
       "      <td>0.0</td>\n",
       "      <td>0.0</td>\n",
       "    </tr>\n",
       "    <tr>\n",
       "      <th>2</th>\n",
       "      <td>0.0</td>\n",
       "      <td>0.0</td>\n",
       "      <td>0.0</td>\n",
       "      <td>0.0</td>\n",
       "      <td>0.0</td>\n",
       "      <td>0.0</td>\n",
       "      <td>0.0</td>\n",
       "      <td>0.0</td>\n",
       "      <td>0.0</td>\n",
       "      <td>0.0</td>\n",
       "      <td>...</td>\n",
       "      <td>0.0</td>\n",
       "      <td>0.0</td>\n",
       "      <td>0.0</td>\n",
       "      <td>0.0</td>\n",
       "      <td>0.0</td>\n",
       "      <td>0.0</td>\n",
       "      <td>0.0</td>\n",
       "      <td>0.0</td>\n",
       "      <td>0.0</td>\n",
       "      <td>0.0</td>\n",
       "    </tr>\n",
       "    <tr>\n",
       "      <th>3</th>\n",
       "      <td>0.0</td>\n",
       "      <td>0.0</td>\n",
       "      <td>0.0</td>\n",
       "      <td>0.0</td>\n",
       "      <td>0.0</td>\n",
       "      <td>0.0</td>\n",
       "      <td>0.0</td>\n",
       "      <td>0.0</td>\n",
       "      <td>0.0</td>\n",
       "      <td>0.0</td>\n",
       "      <td>...</td>\n",
       "      <td>0.0</td>\n",
       "      <td>0.0</td>\n",
       "      <td>0.0</td>\n",
       "      <td>0.0</td>\n",
       "      <td>0.0</td>\n",
       "      <td>0.0</td>\n",
       "      <td>0.0</td>\n",
       "      <td>0.0</td>\n",
       "      <td>0.0</td>\n",
       "      <td>0.0</td>\n",
       "    </tr>\n",
       "    <tr>\n",
       "      <th>4</th>\n",
       "      <td>0.0</td>\n",
       "      <td>0.0</td>\n",
       "      <td>0.0</td>\n",
       "      <td>0.0</td>\n",
       "      <td>0.0</td>\n",
       "      <td>0.0</td>\n",
       "      <td>0.0</td>\n",
       "      <td>0.0</td>\n",
       "      <td>0.0</td>\n",
       "      <td>0.0</td>\n",
       "      <td>...</td>\n",
       "      <td>0.0</td>\n",
       "      <td>0.0</td>\n",
       "      <td>0.0</td>\n",
       "      <td>0.0</td>\n",
       "      <td>0.0</td>\n",
       "      <td>0.0</td>\n",
       "      <td>0.0</td>\n",
       "      <td>0.0</td>\n",
       "      <td>0.0</td>\n",
       "      <td>0.0</td>\n",
       "    </tr>\n",
       "    <tr>\n",
       "      <th>5</th>\n",
       "      <td>0.0</td>\n",
       "      <td>0.0</td>\n",
       "      <td>0.0</td>\n",
       "      <td>0.0</td>\n",
       "      <td>0.0</td>\n",
       "      <td>0.0</td>\n",
       "      <td>0.0</td>\n",
       "      <td>0.0</td>\n",
       "      <td>0.0</td>\n",
       "      <td>0.0</td>\n",
       "      <td>...</td>\n",
       "      <td>0.0</td>\n",
       "      <td>0.0</td>\n",
       "      <td>0.0</td>\n",
       "      <td>0.0</td>\n",
       "      <td>0.0</td>\n",
       "      <td>0.0</td>\n",
       "      <td>0.0</td>\n",
       "      <td>0.0</td>\n",
       "      <td>0.0</td>\n",
       "      <td>0.0</td>\n",
       "    </tr>\n",
       "    <tr>\n",
       "      <th>6</th>\n",
       "      <td>0.0</td>\n",
       "      <td>0.0</td>\n",
       "      <td>0.0</td>\n",
       "      <td>0.0</td>\n",
       "      <td>0.0</td>\n",
       "      <td>0.0</td>\n",
       "      <td>0.0</td>\n",
       "      <td>0.0</td>\n",
       "      <td>0.0</td>\n",
       "      <td>0.0</td>\n",
       "      <td>...</td>\n",
       "      <td>0.0</td>\n",
       "      <td>0.0</td>\n",
       "      <td>0.0</td>\n",
       "      <td>0.0</td>\n",
       "      <td>0.0</td>\n",
       "      <td>0.0</td>\n",
       "      <td>0.0</td>\n",
       "      <td>0.0</td>\n",
       "      <td>0.0</td>\n",
       "      <td>0.0</td>\n",
       "    </tr>\n",
       "    <tr>\n",
       "      <th>7</th>\n",
       "      <td>0.0</td>\n",
       "      <td>0.0</td>\n",
       "      <td>0.0</td>\n",
       "      <td>0.0</td>\n",
       "      <td>0.0</td>\n",
       "      <td>0.0</td>\n",
       "      <td>0.0</td>\n",
       "      <td>0.0</td>\n",
       "      <td>0.0</td>\n",
       "      <td>0.0</td>\n",
       "      <td>...</td>\n",
       "      <td>0.0</td>\n",
       "      <td>0.0</td>\n",
       "      <td>0.0</td>\n",
       "      <td>0.0</td>\n",
       "      <td>0.0</td>\n",
       "      <td>0.0</td>\n",
       "      <td>0.0</td>\n",
       "      <td>0.0</td>\n",
       "      <td>0.0</td>\n",
       "      <td>0.0</td>\n",
       "    </tr>\n",
       "    <tr>\n",
       "      <th>8</th>\n",
       "      <td>0.0</td>\n",
       "      <td>0.0</td>\n",
       "      <td>0.0</td>\n",
       "      <td>0.0</td>\n",
       "      <td>0.0</td>\n",
       "      <td>0.0</td>\n",
       "      <td>0.0</td>\n",
       "      <td>0.0</td>\n",
       "      <td>0.0</td>\n",
       "      <td>0.0</td>\n",
       "      <td>...</td>\n",
       "      <td>0.0</td>\n",
       "      <td>0.0</td>\n",
       "      <td>0.0</td>\n",
       "      <td>0.0</td>\n",
       "      <td>0.0</td>\n",
       "      <td>0.0</td>\n",
       "      <td>0.0</td>\n",
       "      <td>0.0</td>\n",
       "      <td>0.0</td>\n",
       "      <td>0.0</td>\n",
       "    </tr>\n",
       "    <tr>\n",
       "      <th>9</th>\n",
       "      <td>0.0</td>\n",
       "      <td>0.0</td>\n",
       "      <td>0.0</td>\n",
       "      <td>0.0</td>\n",
       "      <td>0.0</td>\n",
       "      <td>0.0</td>\n",
       "      <td>0.0</td>\n",
       "      <td>0.0</td>\n",
       "      <td>0.0</td>\n",
       "      <td>0.0</td>\n",
       "      <td>...</td>\n",
       "      <td>0.0</td>\n",
       "      <td>0.0</td>\n",
       "      <td>0.0</td>\n",
       "      <td>0.0</td>\n",
       "      <td>0.0</td>\n",
       "      <td>0.0</td>\n",
       "      <td>0.0</td>\n",
       "      <td>0.0</td>\n",
       "      <td>0.0</td>\n",
       "      <td>0.0</td>\n",
       "    </tr>\n",
       "  </tbody>\n",
       "</table>\n",
       "<p>10 rows × 10000 columns</p>\n",
       "</div>"
      ],
      "text/plain": [
       "    10   15   16  1953  250   30   40  412  413  419  ...  چذب   کل   ڪل  \\\n",
       "0  0.0  0.0  0.0   0.0  0.0  0.0  0.0  0.0  0.0  0.0  ...  0.0  0.0  0.0   \n",
       "1  0.0  0.0  0.0   0.0  0.0  0.0  0.0  0.0  0.0  0.0  ...  0.0  0.0  0.0   \n",
       "2  0.0  0.0  0.0   0.0  0.0  0.0  0.0  0.0  0.0  0.0  ...  0.0  0.0  0.0   \n",
       "3  0.0  0.0  0.0   0.0  0.0  0.0  0.0  0.0  0.0  0.0  ...  0.0  0.0  0.0   \n",
       "4  0.0  0.0  0.0   0.0  0.0  0.0  0.0  0.0  0.0  0.0  ...  0.0  0.0  0.0   \n",
       "5  0.0  0.0  0.0   0.0  0.0  0.0  0.0  0.0  0.0  0.0  ...  0.0  0.0  0.0   \n",
       "6  0.0  0.0  0.0   0.0  0.0  0.0  0.0  0.0  0.0  0.0  ...  0.0  0.0  0.0   \n",
       "7  0.0  0.0  0.0   0.0  0.0  0.0  0.0  0.0  0.0  0.0  ...  0.0  0.0  0.0   \n",
       "8  0.0  0.0  0.0   0.0  0.0  0.0  0.0  0.0  0.0  0.0  ...  0.0  0.0  0.0   \n",
       "9  0.0  0.0  0.0   0.0  0.0  0.0  0.0  0.0  0.0  0.0  ...  0.0  0.0  0.0   \n",
       "\n",
       "   ڪلما  ګنت  گثيرا   ۈل  یبقی  یوم  ᓄᓚᓅɺ  \n",
       "0   0.0  0.0    0.0  0.0   0.0  0.0   0.0  \n",
       "1   0.0  0.0    0.0  0.0   0.0  0.0   0.0  \n",
       "2   0.0  0.0    0.0  0.0   0.0  0.0   0.0  \n",
       "3   0.0  0.0    0.0  0.0   0.0  0.0   0.0  \n",
       "4   0.0  0.0    0.0  0.0   0.0  0.0   0.0  \n",
       "5   0.0  0.0    0.0  0.0   0.0  0.0   0.0  \n",
       "6   0.0  0.0    0.0  0.0   0.0  0.0   0.0  \n",
       "7   0.0  0.0    0.0  0.0   0.0  0.0   0.0  \n",
       "8   0.0  0.0    0.0  0.0   0.0  0.0   0.0  \n",
       "9   0.0  0.0    0.0  0.0   0.0  0.0   0.0  \n",
       "\n",
       "[10 rows x 10000 columns]"
      ]
     },
     "execution_count": 54,
     "metadata": {},
     "output_type": "execute_result"
    }
   ],
   "source": [
    "word_vectorizer= TfidfVectorizer(\n",
    "    sublinear_tf=True,\n",
    "    strip_accents='unicode',\n",
    "    analyzer='word',\n",
    "    ngram_range=(1,1),\n",
    "    max_features= 10000)\n",
    "\n",
    "word_vec= word_vectorizer.fit_transform(full_data['tweet_text'].astype('str'))\n",
    "word_vec_arr=word_vec.toarray()\n",
    "vocab=word_vectorizer.get_feature_names()\n",
    "word_vec_features=pd.DataFrame.sparse.from_spmatrix(word_vec, columns=vocab)\n",
    "word_vec_features.head(10)"
   ]
  },
  {
   "cell_type": "code",
   "execution_count": 55,
   "id": "caf8894d",
   "metadata": {
    "id": "caf8894d",
    "outputId": "13f6a147-b083-45d0-82fd-48477b477666"
   },
   "outputs": [
    {
     "data": {
      "text/html": [
       "<div>\n",
       "<style scoped>\n",
       "    .dataframe tbody tr th:only-of-type {\n",
       "        vertical-align: middle;\n",
       "    }\n",
       "\n",
       "    .dataframe tbody tr th {\n",
       "        vertical-align: top;\n",
       "    }\n",
       "\n",
       "    .dataframe thead th {\n",
       "        text-align: right;\n",
       "    }\n",
       "</style>\n",
       "<table border=\"1\" class=\"dataframe\">\n",
       "  <thead>\n",
       "    <tr style=\"text-align: right;\">\n",
       "      <th></th>\n",
       "      <th>10</th>\n",
       "      <th>15</th>\n",
       "      <th>16</th>\n",
       "      <th>1953</th>\n",
       "      <th>250</th>\n",
       "      <th>30</th>\n",
       "      <th>40</th>\n",
       "      <th>412</th>\n",
       "      <th>413</th>\n",
       "      <th>419</th>\n",
       "      <th>...</th>\n",
       "      <th>چذب</th>\n",
       "      <th>کل</th>\n",
       "      <th>ڪل</th>\n",
       "      <th>ڪلما</th>\n",
       "      <th>ګنت</th>\n",
       "      <th>گثيرا</th>\n",
       "      <th>ۈل</th>\n",
       "      <th>یبقی</th>\n",
       "      <th>یوم</th>\n",
       "      <th>ᓄᓚᓅɺ</th>\n",
       "    </tr>\n",
       "  </thead>\n",
       "  <tbody>\n",
       "    <tr>\n",
       "      <th>0</th>\n",
       "      <td>0.0</td>\n",
       "      <td>0.0</td>\n",
       "      <td>0.0</td>\n",
       "      <td>0.0</td>\n",
       "      <td>0.0</td>\n",
       "      <td>0.0</td>\n",
       "      <td>0.0</td>\n",
       "      <td>0.0</td>\n",
       "      <td>0.0</td>\n",
       "      <td>0.0</td>\n",
       "      <td>...</td>\n",
       "      <td>0.0</td>\n",
       "      <td>0.0</td>\n",
       "      <td>0.0</td>\n",
       "      <td>0.0</td>\n",
       "      <td>0.0</td>\n",
       "      <td>0.0</td>\n",
       "      <td>0.0</td>\n",
       "      <td>0.0</td>\n",
       "      <td>0.0</td>\n",
       "      <td>0.0</td>\n",
       "    </tr>\n",
       "    <tr>\n",
       "      <th>1</th>\n",
       "      <td>0.0</td>\n",
       "      <td>0.0</td>\n",
       "      <td>0.0</td>\n",
       "      <td>0.0</td>\n",
       "      <td>0.0</td>\n",
       "      <td>0.0</td>\n",
       "      <td>0.0</td>\n",
       "      <td>0.0</td>\n",
       "      <td>0.0</td>\n",
       "      <td>0.0</td>\n",
       "      <td>...</td>\n",
       "      <td>0.0</td>\n",
       "      <td>0.0</td>\n",
       "      <td>0.0</td>\n",
       "      <td>0.0</td>\n",
       "      <td>0.0</td>\n",
       "      <td>0.0</td>\n",
       "      <td>0.0</td>\n",
       "      <td>0.0</td>\n",
       "      <td>0.0</td>\n",
       "      <td>0.0</td>\n",
       "    </tr>\n",
       "    <tr>\n",
       "      <th>2</th>\n",
       "      <td>0.0</td>\n",
       "      <td>0.0</td>\n",
       "      <td>0.0</td>\n",
       "      <td>0.0</td>\n",
       "      <td>0.0</td>\n",
       "      <td>0.0</td>\n",
       "      <td>0.0</td>\n",
       "      <td>0.0</td>\n",
       "      <td>0.0</td>\n",
       "      <td>0.0</td>\n",
       "      <td>...</td>\n",
       "      <td>0.0</td>\n",
       "      <td>0.0</td>\n",
       "      <td>0.0</td>\n",
       "      <td>0.0</td>\n",
       "      <td>0.0</td>\n",
       "      <td>0.0</td>\n",
       "      <td>0.0</td>\n",
       "      <td>0.0</td>\n",
       "      <td>0.0</td>\n",
       "      <td>0.0</td>\n",
       "    </tr>\n",
       "    <tr>\n",
       "      <th>3</th>\n",
       "      <td>0.0</td>\n",
       "      <td>0.0</td>\n",
       "      <td>0.0</td>\n",
       "      <td>0.0</td>\n",
       "      <td>0.0</td>\n",
       "      <td>0.0</td>\n",
       "      <td>0.0</td>\n",
       "      <td>0.0</td>\n",
       "      <td>0.0</td>\n",
       "      <td>0.0</td>\n",
       "      <td>...</td>\n",
       "      <td>0.0</td>\n",
       "      <td>0.0</td>\n",
       "      <td>0.0</td>\n",
       "      <td>0.0</td>\n",
       "      <td>0.0</td>\n",
       "      <td>0.0</td>\n",
       "      <td>0.0</td>\n",
       "      <td>0.0</td>\n",
       "      <td>0.0</td>\n",
       "      <td>0.0</td>\n",
       "    </tr>\n",
       "    <tr>\n",
       "      <th>4</th>\n",
       "      <td>0.0</td>\n",
       "      <td>0.0</td>\n",
       "      <td>0.0</td>\n",
       "      <td>0.0</td>\n",
       "      <td>0.0</td>\n",
       "      <td>0.0</td>\n",
       "      <td>0.0</td>\n",
       "      <td>0.0</td>\n",
       "      <td>0.0</td>\n",
       "      <td>0.0</td>\n",
       "      <td>...</td>\n",
       "      <td>0.0</td>\n",
       "      <td>0.0</td>\n",
       "      <td>0.0</td>\n",
       "      <td>0.0</td>\n",
       "      <td>0.0</td>\n",
       "      <td>0.0</td>\n",
       "      <td>0.0</td>\n",
       "      <td>0.0</td>\n",
       "      <td>0.0</td>\n",
       "      <td>0.0</td>\n",
       "    </tr>\n",
       "    <tr>\n",
       "      <th>5</th>\n",
       "      <td>0.0</td>\n",
       "      <td>0.0</td>\n",
       "      <td>0.0</td>\n",
       "      <td>0.0</td>\n",
       "      <td>0.0</td>\n",
       "      <td>0.0</td>\n",
       "      <td>0.0</td>\n",
       "      <td>0.0</td>\n",
       "      <td>0.0</td>\n",
       "      <td>0.0</td>\n",
       "      <td>...</td>\n",
       "      <td>0.0</td>\n",
       "      <td>0.0</td>\n",
       "      <td>0.0</td>\n",
       "      <td>0.0</td>\n",
       "      <td>0.0</td>\n",
       "      <td>0.0</td>\n",
       "      <td>0.0</td>\n",
       "      <td>0.0</td>\n",
       "      <td>0.0</td>\n",
       "      <td>0.0</td>\n",
       "    </tr>\n",
       "    <tr>\n",
       "      <th>6</th>\n",
       "      <td>0.0</td>\n",
       "      <td>0.0</td>\n",
       "      <td>0.0</td>\n",
       "      <td>0.0</td>\n",
       "      <td>0.0</td>\n",
       "      <td>0.0</td>\n",
       "      <td>0.0</td>\n",
       "      <td>0.0</td>\n",
       "      <td>0.0</td>\n",
       "      <td>0.0</td>\n",
       "      <td>...</td>\n",
       "      <td>0.0</td>\n",
       "      <td>0.0</td>\n",
       "      <td>0.0</td>\n",
       "      <td>0.0</td>\n",
       "      <td>0.0</td>\n",
       "      <td>0.0</td>\n",
       "      <td>0.0</td>\n",
       "      <td>0.0</td>\n",
       "      <td>0.0</td>\n",
       "      <td>0.0</td>\n",
       "    </tr>\n",
       "    <tr>\n",
       "      <th>7</th>\n",
       "      <td>0.0</td>\n",
       "      <td>0.0</td>\n",
       "      <td>0.0</td>\n",
       "      <td>0.0</td>\n",
       "      <td>0.0</td>\n",
       "      <td>0.0</td>\n",
       "      <td>0.0</td>\n",
       "      <td>0.0</td>\n",
       "      <td>0.0</td>\n",
       "      <td>0.0</td>\n",
       "      <td>...</td>\n",
       "      <td>0.0</td>\n",
       "      <td>0.0</td>\n",
       "      <td>0.0</td>\n",
       "      <td>0.0</td>\n",
       "      <td>0.0</td>\n",
       "      <td>0.0</td>\n",
       "      <td>0.0</td>\n",
       "      <td>0.0</td>\n",
       "      <td>0.0</td>\n",
       "      <td>0.0</td>\n",
       "    </tr>\n",
       "    <tr>\n",
       "      <th>8</th>\n",
       "      <td>0.0</td>\n",
       "      <td>0.0</td>\n",
       "      <td>0.0</td>\n",
       "      <td>0.0</td>\n",
       "      <td>0.0</td>\n",
       "      <td>0.0</td>\n",
       "      <td>0.0</td>\n",
       "      <td>0.0</td>\n",
       "      <td>0.0</td>\n",
       "      <td>0.0</td>\n",
       "      <td>...</td>\n",
       "      <td>0.0</td>\n",
       "      <td>0.0</td>\n",
       "      <td>0.0</td>\n",
       "      <td>0.0</td>\n",
       "      <td>0.0</td>\n",
       "      <td>0.0</td>\n",
       "      <td>0.0</td>\n",
       "      <td>0.0</td>\n",
       "      <td>0.0</td>\n",
       "      <td>0.0</td>\n",
       "    </tr>\n",
       "    <tr>\n",
       "      <th>9</th>\n",
       "      <td>0.0</td>\n",
       "      <td>0.0</td>\n",
       "      <td>0.0</td>\n",
       "      <td>0.0</td>\n",
       "      <td>0.0</td>\n",
       "      <td>0.0</td>\n",
       "      <td>0.0</td>\n",
       "      <td>0.0</td>\n",
       "      <td>0.0</td>\n",
       "      <td>0.0</td>\n",
       "      <td>...</td>\n",
       "      <td>0.0</td>\n",
       "      <td>0.0</td>\n",
       "      <td>0.0</td>\n",
       "      <td>0.0</td>\n",
       "      <td>0.0</td>\n",
       "      <td>0.0</td>\n",
       "      <td>0.0</td>\n",
       "      <td>0.0</td>\n",
       "      <td>0.0</td>\n",
       "      <td>0.0</td>\n",
       "    </tr>\n",
       "    <tr>\n",
       "      <th>10</th>\n",
       "      <td>0.0</td>\n",
       "      <td>0.0</td>\n",
       "      <td>0.0</td>\n",
       "      <td>0.0</td>\n",
       "      <td>0.0</td>\n",
       "      <td>0.0</td>\n",
       "      <td>0.0</td>\n",
       "      <td>0.0</td>\n",
       "      <td>0.0</td>\n",
       "      <td>0.0</td>\n",
       "      <td>...</td>\n",
       "      <td>0.0</td>\n",
       "      <td>0.0</td>\n",
       "      <td>0.0</td>\n",
       "      <td>0.0</td>\n",
       "      <td>0.0</td>\n",
       "      <td>0.0</td>\n",
       "      <td>0.0</td>\n",
       "      <td>0.0</td>\n",
       "      <td>0.0</td>\n",
       "      <td>0.0</td>\n",
       "    </tr>\n",
       "    <tr>\n",
       "      <th>11</th>\n",
       "      <td>0.0</td>\n",
       "      <td>0.0</td>\n",
       "      <td>0.0</td>\n",
       "      <td>0.0</td>\n",
       "      <td>0.0</td>\n",
       "      <td>0.0</td>\n",
       "      <td>0.0</td>\n",
       "      <td>0.0</td>\n",
       "      <td>0.0</td>\n",
       "      <td>0.0</td>\n",
       "      <td>...</td>\n",
       "      <td>0.0</td>\n",
       "      <td>0.0</td>\n",
       "      <td>0.0</td>\n",
       "      <td>0.0</td>\n",
       "      <td>0.0</td>\n",
       "      <td>0.0</td>\n",
       "      <td>0.0</td>\n",
       "      <td>0.0</td>\n",
       "      <td>0.0</td>\n",
       "      <td>0.0</td>\n",
       "    </tr>\n",
       "    <tr>\n",
       "      <th>12</th>\n",
       "      <td>0.0</td>\n",
       "      <td>0.0</td>\n",
       "      <td>0.0</td>\n",
       "      <td>0.0</td>\n",
       "      <td>0.0</td>\n",
       "      <td>0.0</td>\n",
       "      <td>0.0</td>\n",
       "      <td>0.0</td>\n",
       "      <td>0.0</td>\n",
       "      <td>0.0</td>\n",
       "      <td>...</td>\n",
       "      <td>0.0</td>\n",
       "      <td>0.0</td>\n",
       "      <td>0.0</td>\n",
       "      <td>0.0</td>\n",
       "      <td>0.0</td>\n",
       "      <td>0.0</td>\n",
       "      <td>0.0</td>\n",
       "      <td>0.0</td>\n",
       "      <td>0.0</td>\n",
       "      <td>0.0</td>\n",
       "    </tr>\n",
       "    <tr>\n",
       "      <th>13</th>\n",
       "      <td>0.0</td>\n",
       "      <td>0.0</td>\n",
       "      <td>0.0</td>\n",
       "      <td>0.0</td>\n",
       "      <td>0.0</td>\n",
       "      <td>0.0</td>\n",
       "      <td>0.0</td>\n",
       "      <td>0.0</td>\n",
       "      <td>0.0</td>\n",
       "      <td>0.0</td>\n",
       "      <td>...</td>\n",
       "      <td>0.0</td>\n",
       "      <td>0.0</td>\n",
       "      <td>0.0</td>\n",
       "      <td>0.0</td>\n",
       "      <td>0.0</td>\n",
       "      <td>0.0</td>\n",
       "      <td>0.0</td>\n",
       "      <td>0.0</td>\n",
       "      <td>0.0</td>\n",
       "      <td>0.0</td>\n",
       "    </tr>\n",
       "    <tr>\n",
       "      <th>14</th>\n",
       "      <td>0.0</td>\n",
       "      <td>0.0</td>\n",
       "      <td>0.0</td>\n",
       "      <td>0.0</td>\n",
       "      <td>0.0</td>\n",
       "      <td>0.0</td>\n",
       "      <td>0.0</td>\n",
       "      <td>0.0</td>\n",
       "      <td>0.0</td>\n",
       "      <td>0.0</td>\n",
       "      <td>...</td>\n",
       "      <td>0.0</td>\n",
       "      <td>0.0</td>\n",
       "      <td>0.0</td>\n",
       "      <td>0.0</td>\n",
       "      <td>0.0</td>\n",
       "      <td>0.0</td>\n",
       "      <td>0.0</td>\n",
       "      <td>0.0</td>\n",
       "      <td>0.0</td>\n",
       "      <td>0.0</td>\n",
       "    </tr>\n",
       "    <tr>\n",
       "      <th>15</th>\n",
       "      <td>0.0</td>\n",
       "      <td>0.0</td>\n",
       "      <td>0.0</td>\n",
       "      <td>0.0</td>\n",
       "      <td>0.0</td>\n",
       "      <td>0.0</td>\n",
       "      <td>0.0</td>\n",
       "      <td>0.0</td>\n",
       "      <td>0.0</td>\n",
       "      <td>0.0</td>\n",
       "      <td>...</td>\n",
       "      <td>0.0</td>\n",
       "      <td>0.0</td>\n",
       "      <td>0.0</td>\n",
       "      <td>0.0</td>\n",
       "      <td>0.0</td>\n",
       "      <td>0.0</td>\n",
       "      <td>0.0</td>\n",
       "      <td>0.0</td>\n",
       "      <td>0.0</td>\n",
       "      <td>0.0</td>\n",
       "    </tr>\n",
       "    <tr>\n",
       "      <th>16</th>\n",
       "      <td>0.0</td>\n",
       "      <td>0.0</td>\n",
       "      <td>0.0</td>\n",
       "      <td>0.0</td>\n",
       "      <td>0.0</td>\n",
       "      <td>0.0</td>\n",
       "      <td>0.0</td>\n",
       "      <td>0.0</td>\n",
       "      <td>0.0</td>\n",
       "      <td>0.0</td>\n",
       "      <td>...</td>\n",
       "      <td>0.0</td>\n",
       "      <td>0.0</td>\n",
       "      <td>0.0</td>\n",
       "      <td>0.0</td>\n",
       "      <td>0.0</td>\n",
       "      <td>0.0</td>\n",
       "      <td>0.0</td>\n",
       "      <td>0.0</td>\n",
       "      <td>0.0</td>\n",
       "      <td>0.0</td>\n",
       "    </tr>\n",
       "    <tr>\n",
       "      <th>17</th>\n",
       "      <td>0.0</td>\n",
       "      <td>0.0</td>\n",
       "      <td>0.0</td>\n",
       "      <td>0.0</td>\n",
       "      <td>0.0</td>\n",
       "      <td>0.0</td>\n",
       "      <td>0.0</td>\n",
       "      <td>0.0</td>\n",
       "      <td>0.0</td>\n",
       "      <td>0.0</td>\n",
       "      <td>...</td>\n",
       "      <td>0.0</td>\n",
       "      <td>0.0</td>\n",
       "      <td>0.0</td>\n",
       "      <td>0.0</td>\n",
       "      <td>0.0</td>\n",
       "      <td>0.0</td>\n",
       "      <td>0.0</td>\n",
       "      <td>0.0</td>\n",
       "      <td>0.0</td>\n",
       "      <td>0.0</td>\n",
       "    </tr>\n",
       "    <tr>\n",
       "      <th>18</th>\n",
       "      <td>0.0</td>\n",
       "      <td>0.0</td>\n",
       "      <td>0.0</td>\n",
       "      <td>0.0</td>\n",
       "      <td>0.0</td>\n",
       "      <td>0.0</td>\n",
       "      <td>0.0</td>\n",
       "      <td>0.0</td>\n",
       "      <td>0.0</td>\n",
       "      <td>0.0</td>\n",
       "      <td>...</td>\n",
       "      <td>0.0</td>\n",
       "      <td>0.0</td>\n",
       "      <td>0.0</td>\n",
       "      <td>0.0</td>\n",
       "      <td>0.0</td>\n",
       "      <td>0.0</td>\n",
       "      <td>0.0</td>\n",
       "      <td>0.0</td>\n",
       "      <td>0.0</td>\n",
       "      <td>0.0</td>\n",
       "    </tr>\n",
       "    <tr>\n",
       "      <th>19</th>\n",
       "      <td>0.0</td>\n",
       "      <td>0.0</td>\n",
       "      <td>0.0</td>\n",
       "      <td>0.0</td>\n",
       "      <td>0.0</td>\n",
       "      <td>0.0</td>\n",
       "      <td>0.0</td>\n",
       "      <td>0.0</td>\n",
       "      <td>0.0</td>\n",
       "      <td>0.0</td>\n",
       "      <td>...</td>\n",
       "      <td>0.0</td>\n",
       "      <td>0.0</td>\n",
       "      <td>0.0</td>\n",
       "      <td>0.0</td>\n",
       "      <td>0.0</td>\n",
       "      <td>0.0</td>\n",
       "      <td>0.0</td>\n",
       "      <td>0.0</td>\n",
       "      <td>0.0</td>\n",
       "      <td>0.0</td>\n",
       "    </tr>\n",
       "  </tbody>\n",
       "</table>\n",
       "<p>20 rows × 10000 columns</p>\n",
       "</div>"
      ],
      "text/plain": [
       "     10   15   16  1953  250   30   40  412  413  419  ...  چذب   کل   ڪل  \\\n",
       "0   0.0  0.0  0.0   0.0  0.0  0.0  0.0  0.0  0.0  0.0  ...  0.0  0.0  0.0   \n",
       "1   0.0  0.0  0.0   0.0  0.0  0.0  0.0  0.0  0.0  0.0  ...  0.0  0.0  0.0   \n",
       "2   0.0  0.0  0.0   0.0  0.0  0.0  0.0  0.0  0.0  0.0  ...  0.0  0.0  0.0   \n",
       "3   0.0  0.0  0.0   0.0  0.0  0.0  0.0  0.0  0.0  0.0  ...  0.0  0.0  0.0   \n",
       "4   0.0  0.0  0.0   0.0  0.0  0.0  0.0  0.0  0.0  0.0  ...  0.0  0.0  0.0   \n",
       "5   0.0  0.0  0.0   0.0  0.0  0.0  0.0  0.0  0.0  0.0  ...  0.0  0.0  0.0   \n",
       "6   0.0  0.0  0.0   0.0  0.0  0.0  0.0  0.0  0.0  0.0  ...  0.0  0.0  0.0   \n",
       "7   0.0  0.0  0.0   0.0  0.0  0.0  0.0  0.0  0.0  0.0  ...  0.0  0.0  0.0   \n",
       "8   0.0  0.0  0.0   0.0  0.0  0.0  0.0  0.0  0.0  0.0  ...  0.0  0.0  0.0   \n",
       "9   0.0  0.0  0.0   0.0  0.0  0.0  0.0  0.0  0.0  0.0  ...  0.0  0.0  0.0   \n",
       "10  0.0  0.0  0.0   0.0  0.0  0.0  0.0  0.0  0.0  0.0  ...  0.0  0.0  0.0   \n",
       "11  0.0  0.0  0.0   0.0  0.0  0.0  0.0  0.0  0.0  0.0  ...  0.0  0.0  0.0   \n",
       "12  0.0  0.0  0.0   0.0  0.0  0.0  0.0  0.0  0.0  0.0  ...  0.0  0.0  0.0   \n",
       "13  0.0  0.0  0.0   0.0  0.0  0.0  0.0  0.0  0.0  0.0  ...  0.0  0.0  0.0   \n",
       "14  0.0  0.0  0.0   0.0  0.0  0.0  0.0  0.0  0.0  0.0  ...  0.0  0.0  0.0   \n",
       "15  0.0  0.0  0.0   0.0  0.0  0.0  0.0  0.0  0.0  0.0  ...  0.0  0.0  0.0   \n",
       "16  0.0  0.0  0.0   0.0  0.0  0.0  0.0  0.0  0.0  0.0  ...  0.0  0.0  0.0   \n",
       "17  0.0  0.0  0.0   0.0  0.0  0.0  0.0  0.0  0.0  0.0  ...  0.0  0.0  0.0   \n",
       "18  0.0  0.0  0.0   0.0  0.0  0.0  0.0  0.0  0.0  0.0  ...  0.0  0.0  0.0   \n",
       "19  0.0  0.0  0.0   0.0  0.0  0.0  0.0  0.0  0.0  0.0  ...  0.0  0.0  0.0   \n",
       "\n",
       "    ڪلما  ګنت  گثيرا   ۈل  یبقی  یوم  ᓄᓚᓅɺ  \n",
       "0    0.0  0.0    0.0  0.0   0.0  0.0   0.0  \n",
       "1    0.0  0.0    0.0  0.0   0.0  0.0   0.0  \n",
       "2    0.0  0.0    0.0  0.0   0.0  0.0   0.0  \n",
       "3    0.0  0.0    0.0  0.0   0.0  0.0   0.0  \n",
       "4    0.0  0.0    0.0  0.0   0.0  0.0   0.0  \n",
       "5    0.0  0.0    0.0  0.0   0.0  0.0   0.0  \n",
       "6    0.0  0.0    0.0  0.0   0.0  0.0   0.0  \n",
       "7    0.0  0.0    0.0  0.0   0.0  0.0   0.0  \n",
       "8    0.0  0.0    0.0  0.0   0.0  0.0   0.0  \n",
       "9    0.0  0.0    0.0  0.0   0.0  0.0   0.0  \n",
       "10   0.0  0.0    0.0  0.0   0.0  0.0   0.0  \n",
       "11   0.0  0.0    0.0  0.0   0.0  0.0   0.0  \n",
       "12   0.0  0.0    0.0  0.0   0.0  0.0   0.0  \n",
       "13   0.0  0.0    0.0  0.0   0.0  0.0   0.0  \n",
       "14   0.0  0.0    0.0  0.0   0.0  0.0   0.0  \n",
       "15   0.0  0.0    0.0  0.0   0.0  0.0   0.0  \n",
       "16   0.0  0.0    0.0  0.0   0.0  0.0   0.0  \n",
       "17   0.0  0.0    0.0  0.0   0.0  0.0   0.0  \n",
       "18   0.0  0.0    0.0  0.0   0.0  0.0   0.0  \n",
       "19   0.0  0.0    0.0  0.0   0.0  0.0   0.0  \n",
       "\n",
       "[20 rows x 10000 columns]"
      ]
     },
     "execution_count": 55,
     "metadata": {},
     "output_type": "execute_result"
    }
   ],
   "source": [
    "word_vec_features=pd.DataFrame.sparse.from_spmatrix(word_vec, columns=vocab)\n",
    "word_vec_features.head(20)"
   ]
  },
  {
   "cell_type": "code",
   "execution_count": null,
   "id": "9c34abfb",
   "metadata": {
    "id": "9c34abfb"
   },
   "outputs": [],
   "source": []
  },
  {
   "cell_type": "code",
   "execution_count": 56,
   "id": "18043482",
   "metadata": {
    "id": "18043482"
   },
   "outputs": [],
   "source": [
    "# import joblib"
   ]
  },
  {
   "cell_type": "code",
   "execution_count": 57,
   "id": "cf56b3cf",
   "metadata": {
    "id": "cf56b3cf"
   },
   "outputs": [],
   "source": [
    "# with open('app/tfidf_model.joblib', 'wb') as f:\n",
    "#     joblib.dump(word_vec, f )"
   ]
  },
  {
   "cell_type": "code",
   "execution_count": 58,
   "id": "66262087",
   "metadata": {
    "id": "66262087"
   },
   "outputs": [],
   "source": [
    "# with open('app/tfidf_model.joblib', 'r') as f:\n",
    "#     word_vectorizer = joblib.load('app/tfidf_model.joblib')\n"
   ]
  },
  {
   "cell_type": "code",
   "execution_count": 59,
   "id": "21df77a0",
   "metadata": {
    "id": "21df77a0",
    "outputId": "99a03d14-cbb2-4393-e953-cfd7d23b145f"
   },
   "outputs": [
    {
     "data": {
      "text/plain": [
       "sklearn.feature_extraction.text.TfidfVectorizer"
      ]
     },
     "execution_count": 59,
     "metadata": {},
     "output_type": "execute_result"
    }
   ],
   "source": [
    "type(word_vectorizer)"
   ]
  },
  {
   "cell_type": "code",
   "execution_count": null,
   "id": "7e4d45ea",
   "metadata": {
    "id": "7e4d45ea"
   },
   "outputs": [],
   "source": []
  },
  {
   "cell_type": "code",
   "execution_count": 60,
   "id": "bd6fbbc9",
   "metadata": {
    "id": "bd6fbbc9"
   },
   "outputs": [],
   "source": [
    "y=full_data['class']\n",
    "X=word_vec_features"
   ]
  },
  {
   "cell_type": "code",
   "execution_count": 61,
   "id": "2c7d44df",
   "metadata": {
    "id": "2c7d44df",
    "outputId": "8287923b-b0aa-4fb3-9ed7-127e2c3c8554"
   },
   "outputs": [
    {
     "data": {
      "text/plain": [
       "((73541, 10000), (73541,))"
      ]
     },
     "execution_count": 61,
     "metadata": {},
     "output_type": "execute_result"
    }
   ],
   "source": [
    "X.shape, y.shape"
   ]
  },
  {
   "cell_type": "markdown",
   "id": "fd1137fc",
   "metadata": {
    "id": "fd1137fc"
   },
   "source": [
    "# Spliting Dataset into 80% Training and 20% Testing"
   ]
  },
  {
   "cell_type": "code",
   "execution_count": 62,
   "id": "436a0fee",
   "metadata": {
    "id": "436a0fee"
   },
   "outputs": [],
   "source": [
    "X_train, X_test, y_train, y_test = train_test_split(X, y, test_size=0.20)\n",
    "scores = []"
   ]
  },
  {
   "cell_type": "code",
   "execution_count": 63,
   "id": "8cd1195c",
   "metadata": {
    "id": "8cd1195c",
    "outputId": "490bb6b3-f930-4b0f-fdc2-6784d212928f"
   },
   "outputs": [
    {
     "data": {
      "text/plain": [
       "0    8976\n",
       "1    5733\n",
       "Name: class, dtype: int64"
      ]
     },
     "execution_count": 63,
     "metadata": {},
     "output_type": "execute_result"
    }
   ],
   "source": [
    "y_test.value_counts()"
   ]
  },
  {
   "cell_type": "markdown",
   "id": "fe6c495f",
   "metadata": {
    "id": "fe6c495f"
   },
   "source": [
    "# Deep Learning"
   ]
  },
  {
   "cell_type": "markdown",
   "id": "a3502cec",
   "metadata": {
    "id": "a3502cec"
   },
   "source": [
    "Multi layer perseptron"
   ]
  },
  {
   "cell_type": "code",
   "execution_count": 64,
   "id": "25d3e062",
   "metadata": {
    "id": "25d3e062",
    "outputId": "bb4c1498-57df-49da-9633-f8e3e6812fc6",
    "scrolled": false
   },
   "outputs": [
    {
     "name": "stdout",
     "output_type": "stream",
     "text": [
      "Epoch 1/65\n",
      "920/920 [==============================] - 111s 117ms/step - loss: 0.6020 - accuracy: 0.6735 - val_loss: 0.4658 - val_accuracy: 0.7909\n",
      "Epoch 2/65\n",
      "920/920 [==============================] - 30s 33ms/step - loss: 0.4837 - accuracy: 0.7713 - val_loss: 0.4049 - val_accuracy: 0.8145\n",
      "Epoch 3/65\n",
      "920/920 [==============================] - 53s 57ms/step - loss: 0.4365 - accuracy: 0.7982 - val_loss: 0.3828 - val_accuracy: 0.8215\n",
      "Epoch 4/65\n",
      "920/920 [==============================] - 34s 37ms/step - loss: 0.4072 - accuracy: 0.8145 - val_loss: 0.3690 - val_accuracy: 0.8272\n",
      "Epoch 5/65\n",
      "920/920 [==============================] - 37s 40ms/step - loss: 0.3892 - accuracy: 0.8230 - val_loss: 0.3608 - val_accuracy: 0.8341\n",
      "Epoch 6/65\n",
      "920/920 [==============================] - 34s 37ms/step - loss: 0.3732 - accuracy: 0.8319 - val_loss: 0.3570 - val_accuracy: 0.8397\n",
      "Epoch 7/65\n",
      "920/920 [==============================] - 38s 41ms/step - loss: 0.3607 - accuracy: 0.8402 - val_loss: 0.3560 - val_accuracy: 0.8409\n",
      "Epoch 8/65\n",
      "920/920 [==============================] - 36s 39ms/step - loss: 0.3462 - accuracy: 0.8459 - val_loss: 0.3545 - val_accuracy: 0.8455\n",
      "Epoch 9/65\n",
      "920/920 [==============================] - 30s 33ms/step - loss: 0.3372 - accuracy: 0.8482 - val_loss: 0.3567 - val_accuracy: 0.8468\n",
      "Epoch 10/65\n",
      "920/920 [==============================] - 30s 33ms/step - loss: 0.3284 - accuracy: 0.8522 - val_loss: 0.3574 - val_accuracy: 0.8507\n",
      "Epoch 11/65\n",
      "920/920 [==============================] - 32s 35ms/step - loss: 0.3195 - accuracy: 0.8561 - val_loss: 0.3586 - val_accuracy: 0.8512\n",
      "Epoch 12/65\n",
      "920/920 [==============================] - 31s 34ms/step - loss: 0.3128 - accuracy: 0.8598 - val_loss: 0.3661 - val_accuracy: 0.8550\n",
      "Epoch 13/65\n",
      "920/920 [==============================] - 34s 37ms/step - loss: 0.3087 - accuracy: 0.8608 - val_loss: 0.3620 - val_accuracy: 0.8597\n"
     ]
    }
   ],
   "source": [
    "# first neural network with keras tutorial\n",
    "\n",
    "# define the keras model\n",
    "\n",
    "model = Sequential()\n",
    "model.add(Dense(16, input_dim=10000, activation='relu'))\n",
    "model.add(Dropout(0.6))\n",
    "model.add(Dense(8, activation='relu'))\n",
    "model.add(Dropout(0.6))\n",
    "model.add(Dense(1, activation='sigmoid'))\n",
    "# compile the keras model\n",
    "model.compile(loss='binary_crossentropy', optimizer='adam', metrics=['accuracy'])\n",
    "#using early stop\n",
    "es_callback = EarlyStopping(monitor='val_loss', patience=5)\n",
    "# fit the keras model on the dataset\n",
    "history=model.fit(X_train, y_train, callbacks=[es_callback], validation_data=(X_test, y_test), epochs=65, batch_size=64)\n"
   ]
  },
  {
   "cell_type": "code",
   "execution_count": 65,
   "id": "c64ac819",
   "metadata": {
    "id": "c64ac819",
    "outputId": "e60b46e4-31c9-4976-f9a5-dcc41af3cf33",
    "scrolled": false
   },
   "outputs": [
    {
     "name": "stdout",
     "output_type": "stream",
     "text": [
      "Model: \"sequential\"\n",
      "_________________________________________________________________\n",
      " Layer (type)                Output Shape              Param #   \n",
      "=================================================================\n",
      " dense (Dense)               (None, 16)                160016    \n",
      "                                                                 \n",
      " dropout (Dropout)           (None, 16)                0         \n",
      "                                                                 \n",
      " dense_1 (Dense)             (None, 8)                 136       \n",
      "                                                                 \n",
      " dropout_1 (Dropout)         (None, 8)                 0         \n",
      "                                                                 \n",
      " dense_2 (Dense)             (None, 1)                 9         \n",
      "                                                                 \n",
      "=================================================================\n",
      "Total params: 160,161\n",
      "Trainable params: 160,161\n",
      "Non-trainable params: 0\n",
      "_________________________________________________________________\n"
     ]
    }
   ],
   "source": [
    "model.summary()"
   ]
  },
  {
   "cell_type": "code",
   "execution_count": 66,
   "id": "e2463806",
   "metadata": {
    "id": "e2463806",
    "outputId": "36cc9c89-7ec5-4174-b2c3-feef802380ff"
   },
   "outputs": [
    {
     "name": "stdout",
     "output_type": "stream",
     "text": [
      "dict_keys(['loss', 'accuracy', 'val_loss', 'val_accuracy'])\n"
     ]
    },
    {
     "data": {
      "image/png": "[encoded data removed]",
      "text/plain": [
       "<Figure size 432x288 with 1 Axes>"
      ]
     },
     "metadata": {},
     "output_type": "display_data"
    },
    {
     "data": {
      "image/png": "[encoded data removed]",
      "text/plain": [
       "<Figure size 432x288 with 1 Axes>"
      ]
     },
     "metadata": {},
     "output_type": "display_data"
    },
    {
     "data": {
      "text/plain": [
       "<Figure size 432x288 with 0 Axes>"
      ]
     },
     "metadata": {},
     "output_type": "display_data"
    }
   ],
   "source": [
    "# Fit the model\n",
    "# history=model.fit(X_train, y_train, callbacks=[es_callback], validation_data=(X_test, y_test), epochs=65, batch_size=64, )\n",
    "\n",
    "# list all data in history\n",
    "print(history.history.keys())\n",
    "# summarize history for accuracy\n",
    "plt.plot(history.history['accuracy'])\n",
    "plt.plot(history.history['val_accuracy'])\n",
    "plt.title('model accuracy')\n",
    "plt.ylabel('accuracy')\n",
    "plt.xlabel('epoch')\n",
    "plt.legend(['train', 'test'], loc='upper left')\n",
    "fig1 = plt.gcf()\n",
    "plt.tight_layout()\n",
    "plt.show()\n",
    "plt.draw()\n",
    "fig1.savefig('model_accuracy.jpg')\n",
    "# summarize history for loss\n",
    "plt.plot(history.history['loss'])\n",
    "plt.plot(history.history['val_loss'])\n",
    "plt.title('model loss')\n",
    "plt.ylabel('loss')\n",
    "plt.xlabel('epoch')\n",
    "plt.legend(['train', 'test'], loc='upper left')\n",
    "fig2= plt.gcf()\n",
    "plt.tight_layout()\n",
    "plt.show()\n",
    "plt.draw()\n",
    "fig2.savefig('model_loss.jpg')"
   ]
  },
  {
   "cell_type": "code",
   "execution_count": 67,
   "id": "2d5f8123",
   "metadata": {
    "id": "2d5f8123",
    "outputId": "c6d4bcee-dc8b-4052-b494-19f2e9534329"
   },
   "outputs": [
    {
     "name": "stdout",
     "output_type": "stream",
     "text": [
      "460/460 [==============================] - 4s 9ms/step - loss: 0.3620 - accuracy: 0.8597\n"
     ]
    },
    {
     "data": {
      "text/plain": [
       "0.86"
      ]
     },
     "execution_count": 67,
     "metadata": {},
     "output_type": "execute_result"
    }
   ],
   "source": [
    "# evaluate\n",
    "acc = model.evaluate(X_test, y_test)\n",
    "scores.append(round(acc[1],3))\n",
    "round(acc[1],3)"
   ]
  },
  {
   "cell_type": "markdown",
   "id": "c8bbacd3",
   "metadata": {
    "id": "c8bbacd3"
   },
   "source": [
    "# Saving the Multilaye perseptrone model"
   ]
  },
  {
   "cell_type": "code",
   "execution_count": 68,
   "id": "4620b0b6",
   "metadata": {
    "id": "4620b0b6"
   },
   "outputs": [],
   "source": [
    "import h5py\n",
    "from tensorflow.keras.models import load_model"
   ]
  },
  {
   "cell_type": "code",
   "execution_count": 69,
   "id": "ae07d4f8",
   "metadata": {
    "id": "ae07d4f8",
    "scrolled": false
   },
   "outputs": [],
   "source": [
    "# model.save('app/mlp_model.h5')"
   ]
  },
  {
   "cell_type": "code",
   "execution_count": 70,
   "id": "634ab738",
   "metadata": {
    "id": "634ab738"
   },
   "outputs": [],
   "source": [
    "mlp_model=load_model('mlp_model.h5')"
   ]
  },
  {
   "cell_type": "code",
   "execution_count": 71,
   "id": "9d9a578f",
   "metadata": {
    "id": "9d9a578f",
    "outputId": "1befccdb-d140-4b0a-f7e6-a8264e5d79a8"
   },
   "outputs": [
    {
     "name": "stdout",
     "output_type": "stream",
     "text": [
      "[[5425 3551]\n",
      " [3180 2553]]\n"
     ]
    }
   ],
   "source": [
    "val_predicts = mlp_model.predict(X_test)\n",
    "y_pred = [1 * (x[0]>=0.5) for x in val_predicts]\n",
    "cm = confusion_matrix(y_test, y_pred)\n",
    "# print(val_predicts)\n",
    "# print(y_pred)\n",
    "print(cm)"
   ]
  },
  {
   "cell_type": "code",
   "execution_count": 72,
   "id": "887a278b",
   "metadata": {
    "id": "887a278b",
    "outputId": "65ff3de3-f1d1-4ef6-a344-2b319c19831d"
   },
   "outputs": [
    {
     "data": {
      "text/plain": [
       "(5425, 3551, 3180, 2553)"
      ]
     },
     "execution_count": 72,
     "metadata": {},
     "output_type": "execute_result"
    }
   ],
   "source": [
    "tn, fp, fn, tp = confusion_matrix(y_test, y_pred).ravel()\n",
    "tn, fp, fn, tp"
   ]
  },
  {
   "cell_type": "code",
   "execution_count": 73,
   "id": "66b63ef0",
   "metadata": {
    "id": "66b63ef0",
    "outputId": "f519bcb5-1eaf-4913-9e2d-961b86283c82"
   },
   "outputs": [
    {
     "data": {
      "image/png": "[encoded data removed]",
      "text/plain": [
       "<Figure size 360x360 with 2 Axes>"
      ]
     },
     "metadata": {},
     "output_type": "display_data"
    },
    {
     "data": {
      "text/plain": [
       "<Figure size 432x288 with 0 Axes>"
      ]
     },
     "metadata": {},
     "output_type": "display_data"
    }
   ],
   "source": [
    "fig, ax = plt.subplots(1, figsize = (5,5))\n",
    "hm=sns.dark_palette(\"#69d\", reverse=True, as_cmap=True)\n",
    "sns.heatmap([[tn, fp], [fn, tp]], annot=True,fmt=\"d\", cmap=hm)\n",
    "ax.set_title('MLP Algorthim', fontsize=18)\n",
    "ax.set_xlabel('Predicted', fontsize=14, color='black')\n",
    "ax.set_ylabel('Actual', fontsize=14, color='black')\n",
    "fig1 = plt.gcf()\n",
    "plt.tight_layout()\n",
    "plt.show()\n",
    "plt.draw()\n",
    "fig1.savefig('mlp_cm.jpg', dpi=100);"
   ]
  },
  {
   "cell_type": "markdown",
   "id": "82823705",
   "metadata": {
    "id": "82823705"
   },
   "source": [
    "# Using the model to predict the class of new tweets"
   ]
  },
  {
   "cell_type": "markdown",
   "id": "d14b0dd4",
   "metadata": {
    "id": "d14b0dd4"
   },
   "source": [
    "prdecting new negative commit"
   ]
  },
  {
   "cell_type": "code",
   "execution_count": 74,
   "id": "20a7240b",
   "metadata": {
    "id": "20a7240b"
   },
   "outputs": [],
   "source": [
    "twt=['من المؤسف ما حدث في السنة الماضية وعدد الناس الذين ماتو بالكرونا والمؤسف اكثر انه لم ينتهي بعد']\n",
    "x = word_vectorizer.transform(twt)"
   ]
  },
  {
   "cell_type": "code",
   "execution_count": 75,
   "id": "86692111",
   "metadata": {
    "id": "86692111",
    "outputId": "166fb3f2-22e1-4a16-ae8d-285a0186f2dc"
   },
   "outputs": [
    {
     "name": "stdout",
     "output_type": "stream",
     "text": [
      "negative\n"
     ]
    },
    {
     "data": {
      "text/plain": [
       "array([[0.15041745]], dtype=float32)"
      ]
     },
     "execution_count": 75,
     "metadata": {},
     "output_type": "execute_result"
    }
   ],
   "source": [
    "x.sort_indices()\n",
    "pred=mlp_model.predict(x)\n",
    "if pred >= 0.5:\n",
    "    print('positive')\n",
    "else:\n",
    "    print('negative')\n",
    "\n",
    "pred"
   ]
  },
  {
   "cell_type": "code",
   "execution_count": 76,
   "id": "4df0cd3e",
   "metadata": {
    "id": "4df0cd3e"
   },
   "outputs": [],
   "source": [
    "twt=['اشتقت ل حديثك ، و كأني لم احادثك منذ سنين 💔']\n",
    "x = word_vectorizer.transform(twt)"
   ]
  },
  {
   "cell_type": "code",
   "execution_count": 77,
   "id": "a569401e",
   "metadata": {
    "id": "a569401e",
    "outputId": "036f2d76-55c0-4e40-bac8-6ce2591aa151"
   },
   "outputs": [
    {
     "name": "stdout",
     "output_type": "stream",
     "text": [
      "negative\n"
     ]
    },
    {
     "data": {
      "text/plain": [
       "array([[0.07064462]], dtype=float32)"
      ]
     },
     "execution_count": 77,
     "metadata": {},
     "output_type": "execute_result"
    }
   ],
   "source": [
    "x.sort_indices()\n",
    "pred=mlp_model.predict(x)\n",
    "if pred >= 0.5:\n",
    "    print('positive')\n",
    "else:\n",
    "    print('negative')\n",
    "\n",
    "pred"
   ]
  },
  {
   "cell_type": "markdown",
   "id": "9ac652e3",
   "metadata": {
    "id": "9ac652e3"
   },
   "source": [
    "predicting positive comment"
   ]
  },
  {
   "cell_type": "code",
   "execution_count": 78,
   "id": "1f21e6e7",
   "metadata": {
    "id": "1f21e6e7"
   },
   "outputs": [],
   "source": [
    "twt2=['مرحبا، حبيت اشاركم فرحتي، اشتركت في برنامج مكثف لدراسة علوم البيانات وتخرجت مكتسبة الكثير من المعلومات']\n",
    "c = word_vectorizer.transform(twt2)"
   ]
  },
  {
   "cell_type": "code",
   "execution_count": 79,
   "id": "5ea85c59",
   "metadata": {
    "id": "5ea85c59",
    "outputId": "012eca3b-9ec5-4626-a775-4d9ba3dc77eb"
   },
   "outputs": [
    {
     "name": "stdout",
     "output_type": "stream",
     "text": [
      "positive\n"
     ]
    },
    {
     "data": {
      "text/plain": [
       "array([[0.98049235]], dtype=float32)"
      ]
     },
     "execution_count": 79,
     "metadata": {},
     "output_type": "execute_result"
    }
   ],
   "source": [
    "c.sort_indices()\n",
    "pred=mlp_model.predict(c)\n",
    "if pred >= 0.4:\n",
    "    print('positive')\n",
    "else:\n",
    "    print('negative')\n",
    "\n",
    "pred"
   ]
  },
  {
   "cell_type": "code",
   "execution_count": 80,
   "id": "514930bd",
   "metadata": {
    "id": "514930bd"
   },
   "outputs": [],
   "source": [
    "twt3=[' أعلنت وزيرة الصحة في مصر هالة زايد اليوم الأربعاء، إطلاق المشروع القومي للتبرع بالبلازما، ضمن مبادرة رئيس الجمهورية والاكتفاء الذاتي من مشتقات البلازما.']\n",
    "c = word_vectorizer.transform(twt3)"
   ]
  },
  {
   "cell_type": "code",
   "execution_count": 81,
   "id": "505b26ed",
   "metadata": {
    "id": "505b26ed",
    "outputId": "0ed7f2fc-6d04-4d42-bbbe-9aadb9c79536"
   },
   "outputs": [
    {
     "name": "stdout",
     "output_type": "stream",
     "text": [
      "positive\n"
     ]
    },
    {
     "data": {
      "text/plain": [
       "array([[0.9495859]], dtype=float32)"
      ]
     },
     "execution_count": 81,
     "metadata": {},
     "output_type": "execute_result"
    }
   ],
   "source": [
    "c.sort_indices()\n",
    "pred=mlp_model.predict(c)\n",
    "if pred >= 0.4:\n",
    "    print('positive')\n",
    "else:\n",
    "    print('negative')\n",
    "\n",
    "pred"
   ]
  },
  {
   "cell_type": "code",
   "execution_count": null,
   "id": "e93b531b",
   "metadata": {
    "id": "e93b531b"
   },
   "outputs": [],
   "source": []
  }
 ],
 "metadata": {
  "colab": {
   "name": "Copy of capstone2.ipynb",
   "provenance": []
  },
  "kernelspec": {
   "display_name": "Python 3 (ipykernel)",
   "language": "python",
   "name": "python3"
  },
  "language_info": {
   "codemirror_mode": {
    "name": "ipython",
    "version": 3
   },
   "file_extension": ".py",
   "mimetype": "text/x-python",
   "name": "python",
   "nbconvert_exporter": "python",
   "pygments_lexer": "ipython3",
   "version": "3.9.7"
  }
 },
 "nbformat": 4,
 "nbformat_minor": 5
}
